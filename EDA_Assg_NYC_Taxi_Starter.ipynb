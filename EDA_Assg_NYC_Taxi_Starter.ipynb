{
  "cells": [
    {
      "cell_type": "markdown",
      "metadata": {
        "id": "ZQl5n2IOuafL"
      },
      "source": [
        "# **New York City Yellow Taxi Data**"
      ]
    },
    {
      "cell_type": "markdown",
      "metadata": {
        "id": "DGQVIB4mEFrZ"
      },
      "source": [
        "## Objective\n",
        "In this case study you will be learning exploratory data analysis (EDA) with the help of a dataset on yellow taxi rides in New York City. This will enable you to understand why EDA is an important step in the process of data science and machine learning."
      ]
    },
    {
      "cell_type": "markdown",
      "metadata": {
        "id": "YJVMenVllLUL"
      },
      "source": [
        "## **Problem Statement**\n",
        "As an analyst at an upcoming taxi operation in NYC, you are tasked to use the 2023 taxi trip data to uncover insights that could help optimise taxi operations. The goal is to analyse patterns in the data that can inform strategic decisions to improve service efficiency, maximise revenue, and enhance passenger experience."
      ]
    },
    {
      "cell_type": "markdown",
      "metadata": {
        "id": "-OVfUMlHFkZD"
      },
      "source": [
        "## Tasks\n",
        "You need to perform the following steps for successfully completing this assignment:\n",
        "1. Data Loading\n",
        "2. Data Cleaning\n",
        "3. Exploratory Analysis: Bivariate and Multivariate\n",
        "4. Creating Visualisations to Support the Analysis\n",
        "5. Deriving Insights and Stating Conclusions"
      ]
    },
    {
      "cell_type": "markdown",
      "metadata": {
        "id": "gTxV-3GJUhWm"
      },
      "source": [
        "---"
      ]
    },
    {
      "cell_type": "markdown",
      "metadata": {
        "id": "ofebI8ITG-Li"
      },
      "source": [
        "**NOTE:** The marks given along with headings and sub-headings are cumulative marks for those particular headings/sub-headings.<br>\n",
        "\n",
        "The actual marks for each task are specified within the tasks themselves.\n",
        "\n",
        "For example, marks given with heading *2* or sub-heading *2.1* are the cumulative marks, for your reference only. <br>\n",
        "\n",
        "The marks you will receive for completing tasks are given with the tasks.\n",
        "\n",
        "Suppose the marks for two tasks are: 3 marks for 2.1.1 and 2 marks for 3.2.2, or\n",
        "* 2.1.1 [3 marks]\n",
        "* 3.2.2 [2 marks]\n",
        "\n",
        "then, you will earn 3 marks for completing task 2.1.1 and 2 marks for completing task 3.2.2.\n"
      ]
    },
    {
      "cell_type": "markdown",
      "metadata": {
        "id": "YdQjht7dUiHt"
      },
      "source": [
        "---"
      ]
    },
    {
      "cell_type": "markdown",
      "metadata": {
        "id": "0eaCZjHIvfuI"
      },
      "source": [
        "## Data Understanding\n",
        "The yellow taxi trip records include fields capturing pick-up and drop-off dates/times, pick-up and drop-off locations, trip distances, itemized fares, rate types, payment types, and driver-reported passenger counts.\n",
        "\n",
        "The data is stored in Parquet format (*.parquet*). The dataset is from 2009 to 2024. However, for this assignment, we will only be using the data from 2023.\n",
        "\n",
        "The data for each month is present in a different parquet file. You will get twelve files for each of the months in 2023.\n",
        "\n",
        "The data was collected and provided to the NYC Taxi and Limousine Commission (TLC) by technology providers like vendors and taxi hailing apps. <br>\n",
        "\n",
        "You can find the link to the TLC trip records page here: https://www.nyc.gov/site/tlc/about/tlc-trip-record-data.page"
      ]
    },
    {
      "cell_type": "markdown",
      "metadata": {
        "id": "LI6qC5IDxZU1"
      },
      "source": [
        "###  Data Description\n",
        "You can find the data description here: [Data Dictionary](https://www.nyc.gov/assets/tlc/downloads/pdf/data_dictionary_trip_records_yellow.pdf)"
      ]
    },
    {
      "cell_type": "markdown",
      "metadata": {
        "id": "FafCzrDuxHg2"
      },
      "source": [
        "**Trip Records**\n",
        "\n",
        "\n",
        "\n",
        "|Field Name       |description |\n",
        "|:----------------|:-----------|\n",
        "| VendorID | A code indicating the TPEP provider that provided the record. <br> 1= Creative Mobile Technologies, LLC; <br> 2= VeriFone Inc. |\n",
        "| tpep_pickup_datetime | The date and time when the meter was engaged.  |\n",
        "| tpep_dropoff_datetime | The date and time when the meter was disengaged.   |\n",
        "| Passenger_count | The number of passengers in the vehicle. <br> This is a driver-entered value. |\n",
        "| Trip_distance | The elapsed trip distance in miles reported by the taximeter. |\n",
        "| PULocationID | TLC Taxi Zone in which the taximeter was engaged |\n",
        "| DOLocationID | TLC Taxi Zone in which the taximeter was disengaged |\n",
        "|RateCodeID |The final rate code in effect at the end of the trip.<br> 1 = Standard rate <br> 2 = JFK <br> 3 = Newark <br>4 = Nassau or Westchester <br>5 = Negotiated fare <br>6 = Group ride |\n",
        "|Store_and_fwd_flag |This flag indicates whether the trip record was held in vehicle memory before sending to the vendor, aka “store and forward,” because the vehicle did not have a connection to the server.  <br>Y= store and forward trip <br>N= not a store and forward trip |\n",
        "|Payment_type| A numeric code signifying how the passenger paid for the trip. <br> 1 = Credit card <br>2 = Cash <br>3 = No charge <br>4 = Dispute <br>5 = Unknown <br>6 = Voided trip |\n",
        "|Fare_amount| The time-and-distance fare calculated by the meter. <br>Extra Miscellaneous extras and surcharges.  Currently, this only includes the 0.50 and 1 USD rush hour and overnight charges. |\n",
        "|MTA_tax |0.50 USD MTA tax that is automatically triggered based on the metered rate in use. |\n",
        "|Improvement_surcharge | 0.30 USD improvement surcharge assessed trips at the flag drop. The improvement surcharge began being levied in 2015. |\n",
        "|Tip_amount |Tip amount – This field is automatically populated for credit card tips. Cash tips are not included. |\n",
        "| Tolls_amount | Total amount of all tolls paid in trip.  |\n",
        "| total_amount | The total amount charged to passengers. Does not include cash tips. |\n",
        "|Congestion_Surcharge |Total amount collected in trip for NYS congestion surcharge. |\n",
        "| Airport_fee | 1.25 USD for pick up only at LaGuardia and John F. Kennedy Airports|\n",
        "\n",
        "Although the amounts of extra charges and taxes applied are specified in the data dictionary, you will see that some cases have different values of these charges in the actual data."
      ]
    },
    {
      "cell_type": "markdown",
      "metadata": {
        "id": "mL-FWYFnVEdE"
      },
      "source": [
        "**Taxi Zones**\n",
        "\n",
        "Each of the trip records contains a field corresponding to the location of the pickup or drop-off of the trip, populated by numbers ranging from 1-263.\n",
        "\n",
        "These numbers correspond to taxi zones, which may be downloaded as a table or map/shapefile and matched to the trip records using a join.\n",
        "\n",
        "This is covered in more detail in later sections."
      ]
    },
    {
      "cell_type": "markdown",
      "metadata": {
        "id": "z66W3s51U0gF"
      },
      "source": [
        "---"
      ]
    },
    {
      "cell_type": "markdown",
      "metadata": {
        "id": "Kw-WRzBfyS7j"
      },
      "source": [
        "## **1** Data Preparation\n",
        "\n",
        "<font color = red>[5 marks]</font> <br>"
      ]
    },
    {
      "cell_type": "markdown",
      "metadata": {
        "id": "nM2X-s6lycvQ"
      },
      "source": [
        "### Import Libraries"
      ]
    },
    {
      "cell_type": "code",
      "execution_count": 2,
      "metadata": {
        "id": "juReqsAzEdW3"
      },
      "outputs": [],
      "source": [
        "# Import warnings\n",
        "\n",
        "import pandas as pd\n",
        "import numpy as np\n",
        "import matplotlib.pyplot as plt\n",
        "import seaborn as sns"
      ]
    },
    {
      "cell_type": "code",
      "execution_count": null,
      "metadata": {
        "id": "3XZjOlJiy1dr"
      },
      "outputs": [],
      "source": [
        "# Import the libraries you will be using for analysis\n",
        "\n"
      ]
    },
    {
      "cell_type": "code",
      "execution_count": 3,
      "metadata": {
        "id": "NsH5LNrSgW9q",
        "colab": {
          "base_uri": "https://localhost:8080/"
        },
        "outputId": "07ca7c67-dfc0-496c-bb0c-346cf7d6a409"
      },
      "outputs": [
        {
          "output_type": "stream",
          "name": "stdout",
          "text": [
            "numpy version: 1.26.4\n",
            "pandas version: 2.2.2\n",
            "matplotlib version: 3.10.0\n",
            "seaborn version: 0.13.2\n"
          ]
        }
      ],
      "source": [
        "# Recommended versions\n",
        "# numpy version: 1.26.4\n",
        "# pandas version: 2.2.2\n",
        "# matplotlib version: 3.10.0\n",
        "# seaborn version: 0.13.2\n",
        "\n",
        "# Check versions\n",
        "print(\"numpy version:\", np.__version__)\n",
        "print(\"pandas version:\", pd.__version__)\n",
        "print(\"matplotlib version:\", plt.matplotlib.__version__)\n",
        "print(\"seaborn version:\", sns.__version__)"
      ]
    },
    {
      "cell_type": "markdown",
      "metadata": {
        "id": "NgHgbPIepaYl"
      },
      "source": [
        "### **1.1** Load the dataset\n",
        "<font color = red>[5 marks]</font> <br>"
      ]
    },
    {
      "cell_type": "markdown",
      "metadata": {
        "id": "KrGluF_gpeHs"
      },
      "source": [
        "You will see twelve files, one for each month.\n",
        "\n",
        "To read parquet files with Pandas, you have to follow a similar syntax as that for CSV files.\n",
        "\n",
        "`df = pd.read_parquet('file.parquet')`"
      ]
    },
    {
      "cell_type": "code",
      "execution_count": 5,
      "metadata": {
        "id": "kIpIsuSSzCp9",
        "colab": {
          "base_uri": "https://localhost:8080/"
        },
        "outputId": "63371847-6eff-4dfb-acdd-cd7be9aed990"
      },
      "outputs": [
        {
          "output_type": "stream",
          "name": "stdout",
          "text": [
            "<class 'pandas.core.frame.DataFrame'>\n",
            "RangeIndex: 3066766 entries, 0 to 3066765\n",
            "Data columns (total 19 columns):\n",
            " #   Column                 Dtype         \n",
            "---  ------                 -----         \n",
            " 0   VendorID               int64         \n",
            " 1   tpep_pickup_datetime   datetime64[us]\n",
            " 2   tpep_dropoff_datetime  datetime64[us]\n",
            " 3   passenger_count        float64       \n",
            " 4   trip_distance          float64       \n",
            " 5   RatecodeID             float64       \n",
            " 6   store_and_fwd_flag     object        \n",
            " 7   PULocationID           int64         \n",
            " 8   DOLocationID           int64         \n",
            " 9   payment_type           int64         \n",
            " 10  fare_amount            float64       \n",
            " 11  extra                  float64       \n",
            " 12  mta_tax                float64       \n",
            " 13  tip_amount             float64       \n",
            " 14  tolls_amount           float64       \n",
            " 15  improvement_surcharge  float64       \n",
            " 16  total_amount           float64       \n",
            " 17  congestion_surcharge   float64       \n",
            " 18  airport_fee            float64       \n",
            "dtypes: datetime64[us](2), float64(12), int64(4), object(1)\n",
            "memory usage: 444.6+ MB\n"
          ]
        }
      ],
      "source": [
        "# Try loading one file\n",
        "\n",
        "# df = pd.read_parquet('2023-1.parquet')\n",
        "# df.info()\n",
        "\n",
        "df=pd.read_parquet('yellow_tripdata_2023-01.parquet')\n",
        "df.info()"
      ]
    },
    {
      "cell_type": "markdown",
      "metadata": {
        "id": "eh-keWIyqcyr"
      },
      "source": [
        "How many rows are there? Do you think handling such a large number of rows is computationally feasible when we have to combine the data for all twelve months into one?\n",
        "\n",
        "To handle this, we need to sample a fraction of data from each of the files. How to go about that? Think of a way to select only some portion of the data from each month's file that accurately represents the trends."
      ]
    },
    {
      "cell_type": "markdown",
      "metadata": {
        "id": "zHx7lh_3QGmj"
      },
      "source": [
        "#### Sampling the Data\n",
        "> One way is to take a small percentage of entries for pickup in every hour of a date. So, for all the days in a month, we can iterate through the hours and select 5% values randomly from those. Use `tpep_pickup_datetime` for this. Separate date and hour from the datetime values and then for each date, select some fraction of trips for each of the 24 hours.\n",
        "\n",
        "To sample data, you can use the `sample()` method. Follow this syntax:\n",
        "\n",
        "```Python\n",
        "# sampled_data is an empty DF to keep appending sampled data of each hour\n",
        "# hour_data is the DF of entries for an hour 'X' on a date 'Y'\n",
        "\n",
        "sample = hour_data.sample(frac = 0.05, random_state = 42)\n",
        "# sample 0.05 of the hour_data\n",
        "# random_state is just a seed for sampling, you can define it yourself\n",
        "\n",
        "sampled_data = pd.concat([sampled_data, sample]) # adding data for this hour to the DF\n",
        "```\n",
        "\n",
        "This *sampled_data* will contain 5% values selected at random from each hour.\n",
        "\n",
        "Note that the code given above is only the part that will be used for sampling and not the complete code required for sampling and combining the data files.\n",
        "\n",
        "Keep in mind that you sample by date AND hour, not just hour. (Why?)"
      ]
    },
    {
      "cell_type": "code",
      "source": [
        "sampled_data_def1 = df.sample(frac=0.0075, random_state=42)\n",
        "sampled_data_def1.info()"
      ],
      "metadata": {
        "colab": {
          "base_uri": "https://localhost:8080/"
        },
        "id": "lGEjIh2uPmVm",
        "outputId": "d0be2c3b-75bc-4ac0-88f8-266e28d10444"
      },
      "execution_count": 15,
      "outputs": [
        {
          "output_type": "stream",
          "name": "stdout",
          "text": [
            "<class 'pandas.core.frame.DataFrame'>\n",
            "Index: 21855 entries, 1288541 to 1408601\n",
            "Data columns (total 19 columns):\n",
            " #   Column                 Non-Null Count  Dtype         \n",
            "---  ------                 --------------  -----         \n",
            " 0   VendorID               21855 non-null  int32         \n",
            " 1   tpep_pickup_datetime   21855 non-null  datetime64[us]\n",
            " 2   tpep_dropoff_datetime  21855 non-null  datetime64[us]\n",
            " 3   passenger_count        21295 non-null  float64       \n",
            " 4   trip_distance          21855 non-null  float64       \n",
            " 5   RatecodeID             21295 non-null  float64       \n",
            " 6   store_and_fwd_flag     21295 non-null  object        \n",
            " 7   PULocationID           21855 non-null  int32         \n",
            " 8   DOLocationID           21855 non-null  int32         \n",
            " 9   payment_type           21855 non-null  int64         \n",
            " 10  fare_amount            21855 non-null  float64       \n",
            " 11  extra                  21855 non-null  float64       \n",
            " 12  mta_tax                21855 non-null  float64       \n",
            " 13  tip_amount             21855 non-null  float64       \n",
            " 14  tolls_amount           21855 non-null  float64       \n",
            " 15  improvement_surcharge  21855 non-null  float64       \n",
            " 16  total_amount           21855 non-null  float64       \n",
            " 17  congestion_surcharge   21295 non-null  float64       \n",
            " 18  Airport_fee            21295 non-null  float64       \n",
            "dtypes: datetime64[us](2), float64(12), int32(3), int64(1), object(1)\n",
            "memory usage: 3.1+ MB\n"
          ]
        }
      ]
    },
    {
      "cell_type": "code",
      "source": [
        "df2=pd.read_parquet('yellow_tripdata_2023-02.parquet')\n",
        "sampled_data_def2 = df2.sample(frac=0.0075, random_state=42)\n",
        "sampled_data_def2.info()"
      ],
      "metadata": {
        "colab": {
          "base_uri": "https://localhost:8080/"
        },
        "id": "-fU7zudtSUwr",
        "outputId": "8becf51a-f7f2-4a49-f754-46a745b43798"
      },
      "execution_count": 19,
      "outputs": [
        {
          "output_type": "stream",
          "name": "stdout",
          "text": [
            "<class 'pandas.core.frame.DataFrame'>\n",
            "Index: 21855 entries, 1288541 to 1408601\n",
            "Data columns (total 19 columns):\n",
            " #   Column                 Non-Null Count  Dtype         \n",
            "---  ------                 --------------  -----         \n",
            " 0   VendorID               21855 non-null  int32         \n",
            " 1   tpep_pickup_datetime   21855 non-null  datetime64[us]\n",
            " 2   tpep_dropoff_datetime  21855 non-null  datetime64[us]\n",
            " 3   passenger_count        21295 non-null  float64       \n",
            " 4   trip_distance          21855 non-null  float64       \n",
            " 5   RatecodeID             21295 non-null  float64       \n",
            " 6   store_and_fwd_flag     21295 non-null  object        \n",
            " 7   PULocationID           21855 non-null  int32         \n",
            " 8   DOLocationID           21855 non-null  int32         \n",
            " 9   payment_type           21855 non-null  int64         \n",
            " 10  fare_amount            21855 non-null  float64       \n",
            " 11  extra                  21855 non-null  float64       \n",
            " 12  mta_tax                21855 non-null  float64       \n",
            " 13  tip_amount             21855 non-null  float64       \n",
            " 14  tolls_amount           21855 non-null  float64       \n",
            " 15  improvement_surcharge  21855 non-null  float64       \n",
            " 16  total_amount           21855 non-null  float64       \n",
            " 17  congestion_surcharge   21295 non-null  float64       \n",
            " 18  Airport_fee            21295 non-null  float64       \n",
            "dtypes: datetime64[us](2), float64(12), int32(3), int64(1), object(1)\n",
            "memory usage: 3.1+ MB\n"
          ]
        }
      ]
    },
    {
      "cell_type": "code",
      "source": [
        "df3=pd.read_parquet('yellow_tripdata_2023-03.parquet')\n",
        "sampled_data_def3 = df3.sample(frac=0.0075, random_state=42)\n",
        "sampled_data_def3.info()"
      ],
      "metadata": {
        "colab": {
          "base_uri": "https://localhost:8080/"
        },
        "id": "R-HW8uxVU5Hv",
        "outputId": "70d7d60a-0dfc-4ebd-d74c-6add5bdb0bbf"
      },
      "execution_count": 20,
      "outputs": [
        {
          "output_type": "stream",
          "name": "stdout",
          "text": [
            "<class 'pandas.core.frame.DataFrame'>\n",
            "Index: 25528 entries, 2904679 to 2653750\n",
            "Data columns (total 19 columns):\n",
            " #   Column                 Non-Null Count  Dtype         \n",
            "---  ------                 --------------  -----         \n",
            " 0   VendorID               25528 non-null  int32         \n",
            " 1   tpep_pickup_datetime   25528 non-null  datetime64[us]\n",
            " 2   tpep_dropoff_datetime  25528 non-null  datetime64[us]\n",
            " 3   passenger_count        24865 non-null  float64       \n",
            " 4   trip_distance          25528 non-null  float64       \n",
            " 5   RatecodeID             24865 non-null  float64       \n",
            " 6   store_and_fwd_flag     24865 non-null  object        \n",
            " 7   PULocationID           25528 non-null  int32         \n",
            " 8   DOLocationID           25528 non-null  int32         \n",
            " 9   payment_type           25528 non-null  int64         \n",
            " 10  fare_amount            25528 non-null  float64       \n",
            " 11  extra                  25528 non-null  float64       \n",
            " 12  mta_tax                25528 non-null  float64       \n",
            " 13  tip_amount             25528 non-null  float64       \n",
            " 14  tolls_amount           25528 non-null  float64       \n",
            " 15  improvement_surcharge  25528 non-null  float64       \n",
            " 16  total_amount           25528 non-null  float64       \n",
            " 17  congestion_surcharge   24865 non-null  float64       \n",
            " 18  Airport_fee            24865 non-null  float64       \n",
            "dtypes: datetime64[us](2), float64(12), int32(3), int64(1), object(1)\n",
            "memory usage: 3.6+ MB\n"
          ]
        }
      ]
    },
    {
      "cell_type": "code",
      "source": [
        "df4=pd.read_parquet('yellow_tripdata_2023-04.parquet')\n",
        "df5=pd.read_parquet('yellow_tripdata_2023-05.parquet')\n",
        "df6=pd.read_parquet('yellow_tripdata_2023-06.parquet')\n",
        "df7=pd.read_parquet('yellow_tripdata_2023-07.parquet')\n",
        "df8=pd.read_parquet('yellow_tripdata_2023-08.parquet')\n",
        "df9=pd.read_parquet('yellow_tripdata_2023-09.parquet')\n",
        "df10=pd.read_parquet('yellow_tripdata_2023-10.parquet')\n",
        "df11=pd.read_parquet('yellow_tripdata_2023-11.parquet')\n",
        "df12=pd.read_parquet('yellow_tripdata_2023-12.parquet')\n",
        "sampled_data_def4 = df4.sample(frac=0.0075, random_state=42)\n",
        "sampled_data_def5 = df5.sample(frac=0.0075, random_state=42)\n",
        "sampled_data_def6 = df6.sample(frac=0.0075, random_state=42)\n",
        "sampled_data_def7 = df7.sample(frac=0.0075, random_state=42)\n",
        "sampled_data_def8 = df8.sample(frac=0.0075, random_state=42)\n",
        "sampled_data_def9 = df9.sample(frac=0.0075, random_state=42)\n",
        "sampled_data_def10 = df10.sample(frac=0.0075, random_state=42)\n",
        "sampled_data_def11 = df11.sample(frac=0.0075, random_state=42)\n",
        "sampled_data_def12 = df12.sample(frac=0.0075, random_state=42)\n"
      ],
      "metadata": {
        "id": "7zK1VgHUU5aJ"
      },
      "execution_count": 21,
      "outputs": []
    },
    {
      "cell_type": "code",
      "source": [
        "df_list = [sampled_data_def1,sampled_data_def2,sampled_data_def3,sampled_data_def4,\n",
        "           sampled_data_def5,sampled_data_def6,sampled_data_def7,sampled_data_def8,\n",
        "           sampled_data_def9,sampled_data_def10,sampled_data_def11,sampled_data_def12]"
      ],
      "metadata": {
        "id": "3mShCIF-Y-7D"
      },
      "execution_count": 41,
      "outputs": []
    },
    {
      "cell_type": "code",
      "source": [
        "com_df = pd.concat(df_list, ignore_index=True)\n",
        "com_df.to_parquet(\"merged_output.parquet\", index=False)\n",
        "com_df.to_csv(\"merged_output.csv\", index=False)"
      ],
      "metadata": {
        "id": "P6WY80ACZcBE"
      },
      "execution_count": 53,
      "outputs": []
    },
    {
      "cell_type": "code",
      "source": [
        "com_df"
      ],
      "metadata": {
        "colab": {
          "base_uri": "https://localhost:8080/",
          "height": 444
        },
        "id": "tNN1j9cGaWBC",
        "outputId": "5a2020c5-345b-466e-8651-fb9f9a6e09ea"
      },
      "execution_count": 50,
      "outputs": [
        {
          "output_type": "execute_result",
          "data": {
            "text/plain": [
              "        VendorID tpep_pickup_datetime tpep_dropoff_datetime  passenger_count  \\\n",
              "0              2  2023-02-13 17:11:02   2023-02-13 17:16:46              1.0   \n",
              "1              2  2023-02-05 18:39:05   2023-02-05 19:10:29              2.0   \n",
              "2              2  2023-02-21 10:15:06   2023-02-21 10:51:25              1.0   \n",
              "3              2  2023-02-24 18:40:20   2023-02-24 18:55:07              1.0   \n",
              "4              2  2023-02-11 08:55:21   2023-02-11 09:16:10              1.0   \n",
              "...          ...                  ...                   ...              ...   \n",
              "286175         2  2023-12-12 09:40:32   2023-12-12 09:44:36              1.0   \n",
              "286176         2  2023-12-30 12:50:08   2023-12-30 13:21:16              1.0   \n",
              "286177         1  2023-12-28 12:57:03   2023-12-28 13:12:19              2.0   \n",
              "286178         2  2023-12-10 15:37:47   2023-12-10 15:49:04              1.0   \n",
              "286179         2  2023-12-14 22:42:23   2023-12-14 22:48:38              1.0   \n",
              "\n",
              "        trip_distance  RatecodeID store_and_fwd_flag  PULocationID  \\\n",
              "0                0.94         1.0                  N           141   \n",
              "1               10.39         1.0                  N           138   \n",
              "2               10.26         1.0                  N           138   \n",
              "3                1.53         1.0                  N           234   \n",
              "4               16.71         2.0                  N           137   \n",
              "...               ...         ...                ...           ...   \n",
              "286175           1.01         1.0                  N           238   \n",
              "286176           6.85         1.0                  N           231   \n",
              "286177           2.50         1.0                  N            41   \n",
              "286178           2.22         1.0                  N           163   \n",
              "286179           1.11         1.0                  N           164   \n",
              "\n",
              "        DOLocationID  payment_type  fare_amount  extra  mta_tax  tip_amount  \\\n",
              "0                262             1          7.9    2.5      0.5        2.88   \n",
              "1                 61             1         45.0    5.0      0.5       10.00   \n",
              "2                163             1         47.8    5.0      0.5        3.00   \n",
              "3                230             1         14.2    2.5      0.5        4.14   \n",
              "4                132             1         70.0    0.0      0.5       24.16   \n",
              "...              ...           ...          ...    ...      ...         ...   \n",
              "286175           142             1          7.2    0.0      0.5        2.80   \n",
              "286176            43             1         36.6    0.0      0.5        8.12   \n",
              "286177           239             1         16.3    2.5      0.5        4.05   \n",
              "286178           236             1         14.2    0.0      0.5        3.64   \n",
              "286179           234             1          8.6    1.0      0.5        2.00   \n",
              "\n",
              "        tolls_amount  improvement_surcharge  total_amount  \\\n",
              "0               0.00                    1.0         17.28   \n",
              "1               0.00                    1.0         62.75   \n",
              "2               6.55                    1.0         67.60   \n",
              "3               0.00                    1.0         24.84   \n",
              "4               6.55                    1.0        104.71   \n",
              "...              ...                    ...           ...   \n",
              "286175          0.00                    1.0         14.00   \n",
              "286176          0.00                    1.0         48.72   \n",
              "286177          0.00                    1.0         24.35   \n",
              "286178          0.00                    1.0         21.84   \n",
              "286179          0.00                    1.0         15.60   \n",
              "\n",
              "        congestion_surcharge  Airport_fee  \n",
              "0                        2.5         0.00  \n",
              "1                        0.0         1.25  \n",
              "2                        2.5         1.25  \n",
              "3                        2.5         0.00  \n",
              "4                        2.5         0.00  \n",
              "...                      ...          ...  \n",
              "286175                   2.5         0.00  \n",
              "286176                   2.5         0.00  \n",
              "286177                   2.5         0.00  \n",
              "286178                   2.5         0.00  \n",
              "286179                   2.5         0.00  \n",
              "\n",
              "[286180 rows x 19 columns]"
            ],
            "text/html": [
              "\n",
              "  <div id=\"df-1286a3d9-964c-48f9-ba1e-ede383a00507\" class=\"colab-df-container\">\n",
              "    <div>\n",
              "<style scoped>\n",
              "    .dataframe tbody tr th:only-of-type {\n",
              "        vertical-align: middle;\n",
              "    }\n",
              "\n",
              "    .dataframe tbody tr th {\n",
              "        vertical-align: top;\n",
              "    }\n",
              "\n",
              "    .dataframe thead th {\n",
              "        text-align: right;\n",
              "    }\n",
              "</style>\n",
              "<table border=\"1\" class=\"dataframe\">\n",
              "  <thead>\n",
              "    <tr style=\"text-align: right;\">\n",
              "      <th></th>\n",
              "      <th>VendorID</th>\n",
              "      <th>tpep_pickup_datetime</th>\n",
              "      <th>tpep_dropoff_datetime</th>\n",
              "      <th>passenger_count</th>\n",
              "      <th>trip_distance</th>\n",
              "      <th>RatecodeID</th>\n",
              "      <th>store_and_fwd_flag</th>\n",
              "      <th>PULocationID</th>\n",
              "      <th>DOLocationID</th>\n",
              "      <th>payment_type</th>\n",
              "      <th>fare_amount</th>\n",
              "      <th>extra</th>\n",
              "      <th>mta_tax</th>\n",
              "      <th>tip_amount</th>\n",
              "      <th>tolls_amount</th>\n",
              "      <th>improvement_surcharge</th>\n",
              "      <th>total_amount</th>\n",
              "      <th>congestion_surcharge</th>\n",
              "      <th>Airport_fee</th>\n",
              "    </tr>\n",
              "  </thead>\n",
              "  <tbody>\n",
              "    <tr>\n",
              "      <th>0</th>\n",
              "      <td>2</td>\n",
              "      <td>2023-02-13 17:11:02</td>\n",
              "      <td>2023-02-13 17:16:46</td>\n",
              "      <td>1.0</td>\n",
              "      <td>0.94</td>\n",
              "      <td>1.0</td>\n",
              "      <td>N</td>\n",
              "      <td>141</td>\n",
              "      <td>262</td>\n",
              "      <td>1</td>\n",
              "      <td>7.9</td>\n",
              "      <td>2.5</td>\n",
              "      <td>0.5</td>\n",
              "      <td>2.88</td>\n",
              "      <td>0.00</td>\n",
              "      <td>1.0</td>\n",
              "      <td>17.28</td>\n",
              "      <td>2.5</td>\n",
              "      <td>0.00</td>\n",
              "    </tr>\n",
              "    <tr>\n",
              "      <th>1</th>\n",
              "      <td>2</td>\n",
              "      <td>2023-02-05 18:39:05</td>\n",
              "      <td>2023-02-05 19:10:29</td>\n",
              "      <td>2.0</td>\n",
              "      <td>10.39</td>\n",
              "      <td>1.0</td>\n",
              "      <td>N</td>\n",
              "      <td>138</td>\n",
              "      <td>61</td>\n",
              "      <td>1</td>\n",
              "      <td>45.0</td>\n",
              "      <td>5.0</td>\n",
              "      <td>0.5</td>\n",
              "      <td>10.00</td>\n",
              "      <td>0.00</td>\n",
              "      <td>1.0</td>\n",
              "      <td>62.75</td>\n",
              "      <td>0.0</td>\n",
              "      <td>1.25</td>\n",
              "    </tr>\n",
              "    <tr>\n",
              "      <th>2</th>\n",
              "      <td>2</td>\n",
              "      <td>2023-02-21 10:15:06</td>\n",
              "      <td>2023-02-21 10:51:25</td>\n",
              "      <td>1.0</td>\n",
              "      <td>10.26</td>\n",
              "      <td>1.0</td>\n",
              "      <td>N</td>\n",
              "      <td>138</td>\n",
              "      <td>163</td>\n",
              "      <td>1</td>\n",
              "      <td>47.8</td>\n",
              "      <td>5.0</td>\n",
              "      <td>0.5</td>\n",
              "      <td>3.00</td>\n",
              "      <td>6.55</td>\n",
              "      <td>1.0</td>\n",
              "      <td>67.60</td>\n",
              "      <td>2.5</td>\n",
              "      <td>1.25</td>\n",
              "    </tr>\n",
              "    <tr>\n",
              "      <th>3</th>\n",
              "      <td>2</td>\n",
              "      <td>2023-02-24 18:40:20</td>\n",
              "      <td>2023-02-24 18:55:07</td>\n",
              "      <td>1.0</td>\n",
              "      <td>1.53</td>\n",
              "      <td>1.0</td>\n",
              "      <td>N</td>\n",
              "      <td>234</td>\n",
              "      <td>230</td>\n",
              "      <td>1</td>\n",
              "      <td>14.2</td>\n",
              "      <td>2.5</td>\n",
              "      <td>0.5</td>\n",
              "      <td>4.14</td>\n",
              "      <td>0.00</td>\n",
              "      <td>1.0</td>\n",
              "      <td>24.84</td>\n",
              "      <td>2.5</td>\n",
              "      <td>0.00</td>\n",
              "    </tr>\n",
              "    <tr>\n",
              "      <th>4</th>\n",
              "      <td>2</td>\n",
              "      <td>2023-02-11 08:55:21</td>\n",
              "      <td>2023-02-11 09:16:10</td>\n",
              "      <td>1.0</td>\n",
              "      <td>16.71</td>\n",
              "      <td>2.0</td>\n",
              "      <td>N</td>\n",
              "      <td>137</td>\n",
              "      <td>132</td>\n",
              "      <td>1</td>\n",
              "      <td>70.0</td>\n",
              "      <td>0.0</td>\n",
              "      <td>0.5</td>\n",
              "      <td>24.16</td>\n",
              "      <td>6.55</td>\n",
              "      <td>1.0</td>\n",
              "      <td>104.71</td>\n",
              "      <td>2.5</td>\n",
              "      <td>0.00</td>\n",
              "    </tr>\n",
              "    <tr>\n",
              "      <th>...</th>\n",
              "      <td>...</td>\n",
              "      <td>...</td>\n",
              "      <td>...</td>\n",
              "      <td>...</td>\n",
              "      <td>...</td>\n",
              "      <td>...</td>\n",
              "      <td>...</td>\n",
              "      <td>...</td>\n",
              "      <td>...</td>\n",
              "      <td>...</td>\n",
              "      <td>...</td>\n",
              "      <td>...</td>\n",
              "      <td>...</td>\n",
              "      <td>...</td>\n",
              "      <td>...</td>\n",
              "      <td>...</td>\n",
              "      <td>...</td>\n",
              "      <td>...</td>\n",
              "      <td>...</td>\n",
              "    </tr>\n",
              "    <tr>\n",
              "      <th>286175</th>\n",
              "      <td>2</td>\n",
              "      <td>2023-12-12 09:40:32</td>\n",
              "      <td>2023-12-12 09:44:36</td>\n",
              "      <td>1.0</td>\n",
              "      <td>1.01</td>\n",
              "      <td>1.0</td>\n",
              "      <td>N</td>\n",
              "      <td>238</td>\n",
              "      <td>142</td>\n",
              "      <td>1</td>\n",
              "      <td>7.2</td>\n",
              "      <td>0.0</td>\n",
              "      <td>0.5</td>\n",
              "      <td>2.80</td>\n",
              "      <td>0.00</td>\n",
              "      <td>1.0</td>\n",
              "      <td>14.00</td>\n",
              "      <td>2.5</td>\n",
              "      <td>0.00</td>\n",
              "    </tr>\n",
              "    <tr>\n",
              "      <th>286176</th>\n",
              "      <td>2</td>\n",
              "      <td>2023-12-30 12:50:08</td>\n",
              "      <td>2023-12-30 13:21:16</td>\n",
              "      <td>1.0</td>\n",
              "      <td>6.85</td>\n",
              "      <td>1.0</td>\n",
              "      <td>N</td>\n",
              "      <td>231</td>\n",
              "      <td>43</td>\n",
              "      <td>1</td>\n",
              "      <td>36.6</td>\n",
              "      <td>0.0</td>\n",
              "      <td>0.5</td>\n",
              "      <td>8.12</td>\n",
              "      <td>0.00</td>\n",
              "      <td>1.0</td>\n",
              "      <td>48.72</td>\n",
              "      <td>2.5</td>\n",
              "      <td>0.00</td>\n",
              "    </tr>\n",
              "    <tr>\n",
              "      <th>286177</th>\n",
              "      <td>1</td>\n",
              "      <td>2023-12-28 12:57:03</td>\n",
              "      <td>2023-12-28 13:12:19</td>\n",
              "      <td>2.0</td>\n",
              "      <td>2.50</td>\n",
              "      <td>1.0</td>\n",
              "      <td>N</td>\n",
              "      <td>41</td>\n",
              "      <td>239</td>\n",
              "      <td>1</td>\n",
              "      <td>16.3</td>\n",
              "      <td>2.5</td>\n",
              "      <td>0.5</td>\n",
              "      <td>4.05</td>\n",
              "      <td>0.00</td>\n",
              "      <td>1.0</td>\n",
              "      <td>24.35</td>\n",
              "      <td>2.5</td>\n",
              "      <td>0.00</td>\n",
              "    </tr>\n",
              "    <tr>\n",
              "      <th>286178</th>\n",
              "      <td>2</td>\n",
              "      <td>2023-12-10 15:37:47</td>\n",
              "      <td>2023-12-10 15:49:04</td>\n",
              "      <td>1.0</td>\n",
              "      <td>2.22</td>\n",
              "      <td>1.0</td>\n",
              "      <td>N</td>\n",
              "      <td>163</td>\n",
              "      <td>236</td>\n",
              "      <td>1</td>\n",
              "      <td>14.2</td>\n",
              "      <td>0.0</td>\n",
              "      <td>0.5</td>\n",
              "      <td>3.64</td>\n",
              "      <td>0.00</td>\n",
              "      <td>1.0</td>\n",
              "      <td>21.84</td>\n",
              "      <td>2.5</td>\n",
              "      <td>0.00</td>\n",
              "    </tr>\n",
              "    <tr>\n",
              "      <th>286179</th>\n",
              "      <td>2</td>\n",
              "      <td>2023-12-14 22:42:23</td>\n",
              "      <td>2023-12-14 22:48:38</td>\n",
              "      <td>1.0</td>\n",
              "      <td>1.11</td>\n",
              "      <td>1.0</td>\n",
              "      <td>N</td>\n",
              "      <td>164</td>\n",
              "      <td>234</td>\n",
              "      <td>1</td>\n",
              "      <td>8.6</td>\n",
              "      <td>1.0</td>\n",
              "      <td>0.5</td>\n",
              "      <td>2.00</td>\n",
              "      <td>0.00</td>\n",
              "      <td>1.0</td>\n",
              "      <td>15.60</td>\n",
              "      <td>2.5</td>\n",
              "      <td>0.00</td>\n",
              "    </tr>\n",
              "  </tbody>\n",
              "</table>\n",
              "<p>286180 rows × 19 columns</p>\n",
              "</div>\n",
              "    <div class=\"colab-df-buttons\">\n",
              "\n",
              "  <div class=\"colab-df-container\">\n",
              "    <button class=\"colab-df-convert\" onclick=\"convertToInteractive('df-1286a3d9-964c-48f9-ba1e-ede383a00507')\"\n",
              "            title=\"Convert this dataframe to an interactive table.\"\n",
              "            style=\"display:none;\">\n",
              "\n",
              "  <svg xmlns=\"http://www.w3.org/2000/svg\" height=\"24px\" viewBox=\"0 -960 960 960\">\n",
              "    <path d=\"M120-120v-720h720v720H120Zm60-500h600v-160H180v160Zm220 220h160v-160H400v160Zm0 220h160v-160H400v160ZM180-400h160v-160H180v160Zm440 0h160v-160H620v160ZM180-180h160v-160H180v160Zm440 0h160v-160H620v160Z\"/>\n",
              "  </svg>\n",
              "    </button>\n",
              "\n",
              "  <style>\n",
              "    .colab-df-container {\n",
              "      display:flex;\n",
              "      gap: 12px;\n",
              "    }\n",
              "\n",
              "    .colab-df-convert {\n",
              "      background-color: #E8F0FE;\n",
              "      border: none;\n",
              "      border-radius: 50%;\n",
              "      cursor: pointer;\n",
              "      display: none;\n",
              "      fill: #1967D2;\n",
              "      height: 32px;\n",
              "      padding: 0 0 0 0;\n",
              "      width: 32px;\n",
              "    }\n",
              "\n",
              "    .colab-df-convert:hover {\n",
              "      background-color: #E2EBFA;\n",
              "      box-shadow: 0px 1px 2px rgba(60, 64, 67, 0.3), 0px 1px 3px 1px rgba(60, 64, 67, 0.15);\n",
              "      fill: #174EA6;\n",
              "    }\n",
              "\n",
              "    .colab-df-buttons div {\n",
              "      margin-bottom: 4px;\n",
              "    }\n",
              "\n",
              "    [theme=dark] .colab-df-convert {\n",
              "      background-color: #3B4455;\n",
              "      fill: #D2E3FC;\n",
              "    }\n",
              "\n",
              "    [theme=dark] .colab-df-convert:hover {\n",
              "      background-color: #434B5C;\n",
              "      box-shadow: 0px 1px 3px 1px rgba(0, 0, 0, 0.15);\n",
              "      filter: drop-shadow(0px 1px 2px rgba(0, 0, 0, 0.3));\n",
              "      fill: #FFFFFF;\n",
              "    }\n",
              "  </style>\n",
              "\n",
              "    <script>\n",
              "      const buttonEl =\n",
              "        document.querySelector('#df-1286a3d9-964c-48f9-ba1e-ede383a00507 button.colab-df-convert');\n",
              "      buttonEl.style.display =\n",
              "        google.colab.kernel.accessAllowed ? 'block' : 'none';\n",
              "\n",
              "      async function convertToInteractive(key) {\n",
              "        const element = document.querySelector('#df-1286a3d9-964c-48f9-ba1e-ede383a00507');\n",
              "        const dataTable =\n",
              "          await google.colab.kernel.invokeFunction('convertToInteractive',\n",
              "                                                    [key], {});\n",
              "        if (!dataTable) return;\n",
              "\n",
              "        const docLinkHtml = 'Like what you see? Visit the ' +\n",
              "          '<a target=\"_blank\" href=https://colab.research.google.com/notebooks/data_table.ipynb>data table notebook</a>'\n",
              "          + ' to learn more about interactive tables.';\n",
              "        element.innerHTML = '';\n",
              "        dataTable['output_type'] = 'display_data';\n",
              "        await google.colab.output.renderOutput(dataTable, element);\n",
              "        const docLink = document.createElement('div');\n",
              "        docLink.innerHTML = docLinkHtml;\n",
              "        element.appendChild(docLink);\n",
              "      }\n",
              "    </script>\n",
              "  </div>\n",
              "\n",
              "\n",
              "<div id=\"df-9676453b-a525-4e83-9d50-ba806da57415\">\n",
              "  <button class=\"colab-df-quickchart\" onclick=\"quickchart('df-9676453b-a525-4e83-9d50-ba806da57415')\"\n",
              "            title=\"Suggest charts\"\n",
              "            style=\"display:none;\">\n",
              "\n",
              "<svg xmlns=\"http://www.w3.org/2000/svg\" height=\"24px\"viewBox=\"0 0 24 24\"\n",
              "     width=\"24px\">\n",
              "    <g>\n",
              "        <path d=\"M19 3H5c-1.1 0-2 .9-2 2v14c0 1.1.9 2 2 2h14c1.1 0 2-.9 2-2V5c0-1.1-.9-2-2-2zM9 17H7v-7h2v7zm4 0h-2V7h2v10zm4 0h-2v-4h2v4z\"/>\n",
              "    </g>\n",
              "</svg>\n",
              "  </button>\n",
              "\n",
              "<style>\n",
              "  .colab-df-quickchart {\n",
              "      --bg-color: #E8F0FE;\n",
              "      --fill-color: #1967D2;\n",
              "      --hover-bg-color: #E2EBFA;\n",
              "      --hover-fill-color: #174EA6;\n",
              "      --disabled-fill-color: #AAA;\n",
              "      --disabled-bg-color: #DDD;\n",
              "  }\n",
              "\n",
              "  [theme=dark] .colab-df-quickchart {\n",
              "      --bg-color: #3B4455;\n",
              "      --fill-color: #D2E3FC;\n",
              "      --hover-bg-color: #434B5C;\n",
              "      --hover-fill-color: #FFFFFF;\n",
              "      --disabled-bg-color: #3B4455;\n",
              "      --disabled-fill-color: #666;\n",
              "  }\n",
              "\n",
              "  .colab-df-quickchart {\n",
              "    background-color: var(--bg-color);\n",
              "    border: none;\n",
              "    border-radius: 50%;\n",
              "    cursor: pointer;\n",
              "    display: none;\n",
              "    fill: var(--fill-color);\n",
              "    height: 32px;\n",
              "    padding: 0;\n",
              "    width: 32px;\n",
              "  }\n",
              "\n",
              "  .colab-df-quickchart:hover {\n",
              "    background-color: var(--hover-bg-color);\n",
              "    box-shadow: 0 1px 2px rgba(60, 64, 67, 0.3), 0 1px 3px 1px rgba(60, 64, 67, 0.15);\n",
              "    fill: var(--button-hover-fill-color);\n",
              "  }\n",
              "\n",
              "  .colab-df-quickchart-complete:disabled,\n",
              "  .colab-df-quickchart-complete:disabled:hover {\n",
              "    background-color: var(--disabled-bg-color);\n",
              "    fill: var(--disabled-fill-color);\n",
              "    box-shadow: none;\n",
              "  }\n",
              "\n",
              "  .colab-df-spinner {\n",
              "    border: 2px solid var(--fill-color);\n",
              "    border-color: transparent;\n",
              "    border-bottom-color: var(--fill-color);\n",
              "    animation:\n",
              "      spin 1s steps(1) infinite;\n",
              "  }\n",
              "\n",
              "  @keyframes spin {\n",
              "    0% {\n",
              "      border-color: transparent;\n",
              "      border-bottom-color: var(--fill-color);\n",
              "      border-left-color: var(--fill-color);\n",
              "    }\n",
              "    20% {\n",
              "      border-color: transparent;\n",
              "      border-left-color: var(--fill-color);\n",
              "      border-top-color: var(--fill-color);\n",
              "    }\n",
              "    30% {\n",
              "      border-color: transparent;\n",
              "      border-left-color: var(--fill-color);\n",
              "      border-top-color: var(--fill-color);\n",
              "      border-right-color: var(--fill-color);\n",
              "    }\n",
              "    40% {\n",
              "      border-color: transparent;\n",
              "      border-right-color: var(--fill-color);\n",
              "      border-top-color: var(--fill-color);\n",
              "    }\n",
              "    60% {\n",
              "      border-color: transparent;\n",
              "      border-right-color: var(--fill-color);\n",
              "    }\n",
              "    80% {\n",
              "      border-color: transparent;\n",
              "      border-right-color: var(--fill-color);\n",
              "      border-bottom-color: var(--fill-color);\n",
              "    }\n",
              "    90% {\n",
              "      border-color: transparent;\n",
              "      border-bottom-color: var(--fill-color);\n",
              "    }\n",
              "  }\n",
              "</style>\n",
              "\n",
              "  <script>\n",
              "    async function quickchart(key) {\n",
              "      const quickchartButtonEl =\n",
              "        document.querySelector('#' + key + ' button');\n",
              "      quickchartButtonEl.disabled = true;  // To prevent multiple clicks.\n",
              "      quickchartButtonEl.classList.add('colab-df-spinner');\n",
              "      try {\n",
              "        const charts = await google.colab.kernel.invokeFunction(\n",
              "            'suggestCharts', [key], {});\n",
              "      } catch (error) {\n",
              "        console.error('Error during call to suggestCharts:', error);\n",
              "      }\n",
              "      quickchartButtonEl.classList.remove('colab-df-spinner');\n",
              "      quickchartButtonEl.classList.add('colab-df-quickchart-complete');\n",
              "    }\n",
              "    (() => {\n",
              "      let quickchartButtonEl =\n",
              "        document.querySelector('#df-9676453b-a525-4e83-9d50-ba806da57415 button');\n",
              "      quickchartButtonEl.style.display =\n",
              "        google.colab.kernel.accessAllowed ? 'block' : 'none';\n",
              "    })();\n",
              "  </script>\n",
              "</div>\n",
              "\n",
              "  <div id=\"id_5cebc4f8-d7db-45bd-8eaa-d815331e70f2\">\n",
              "    <style>\n",
              "      .colab-df-generate {\n",
              "        background-color: #E8F0FE;\n",
              "        border: none;\n",
              "        border-radius: 50%;\n",
              "        cursor: pointer;\n",
              "        display: none;\n",
              "        fill: #1967D2;\n",
              "        height: 32px;\n",
              "        padding: 0 0 0 0;\n",
              "        width: 32px;\n",
              "      }\n",
              "\n",
              "      .colab-df-generate:hover {\n",
              "        background-color: #E2EBFA;\n",
              "        box-shadow: 0px 1px 2px rgba(60, 64, 67, 0.3), 0px 1px 3px 1px rgba(60, 64, 67, 0.15);\n",
              "        fill: #174EA6;\n",
              "      }\n",
              "\n",
              "      [theme=dark] .colab-df-generate {\n",
              "        background-color: #3B4455;\n",
              "        fill: #D2E3FC;\n",
              "      }\n",
              "\n",
              "      [theme=dark] .colab-df-generate:hover {\n",
              "        background-color: #434B5C;\n",
              "        box-shadow: 0px 1px 3px 1px rgba(0, 0, 0, 0.15);\n",
              "        filter: drop-shadow(0px 1px 2px rgba(0, 0, 0, 0.3));\n",
              "        fill: #FFFFFF;\n",
              "      }\n",
              "    </style>\n",
              "    <button class=\"colab-df-generate\" onclick=\"generateWithVariable('com_df')\"\n",
              "            title=\"Generate code using this dataframe.\"\n",
              "            style=\"display:none;\">\n",
              "\n",
              "  <svg xmlns=\"http://www.w3.org/2000/svg\" height=\"24px\"viewBox=\"0 0 24 24\"\n",
              "       width=\"24px\">\n",
              "    <path d=\"M7,19H8.4L18.45,9,17,7.55,7,17.6ZM5,21V16.75L18.45,3.32a2,2,0,0,1,2.83,0l1.4,1.43a1.91,1.91,0,0,1,.58,1.4,1.91,1.91,0,0,1-.58,1.4L9.25,21ZM18.45,9,17,7.55Zm-12,3A5.31,5.31,0,0,0,4.9,8.1,5.31,5.31,0,0,0,1,6.5,5.31,5.31,0,0,0,4.9,4.9,5.31,5.31,0,0,0,6.5,1,5.31,5.31,0,0,0,8.1,4.9,5.31,5.31,0,0,0,12,6.5,5.46,5.46,0,0,0,6.5,12Z\"/>\n",
              "  </svg>\n",
              "    </button>\n",
              "    <script>\n",
              "      (() => {\n",
              "      const buttonEl =\n",
              "        document.querySelector('#id_5cebc4f8-d7db-45bd-8eaa-d815331e70f2 button.colab-df-generate');\n",
              "      buttonEl.style.display =\n",
              "        google.colab.kernel.accessAllowed ? 'block' : 'none';\n",
              "\n",
              "      buttonEl.onclick = () => {\n",
              "        google.colab.notebook.generateWithVariable('com_df');\n",
              "      }\n",
              "      })();\n",
              "    </script>\n",
              "  </div>\n",
              "\n",
              "    </div>\n",
              "  </div>\n"
            ],
            "application/vnd.google.colaboratory.intrinsic+json": {
              "type": "dataframe",
              "variable_name": "com_df"
            }
          },
          "metadata": {},
          "execution_count": 50
        }
      ]
    },
    {
      "cell_type": "markdown",
      "metadata": {
        "id": "Fp24-wpQrlC5"
      },
      "source": [
        "**1.1.1** <font color = red>[5 marks]</font> <br>\n",
        "Figure out how to sample and combine the files."
      ]
    },
    {
      "cell_type": "code",
      "source": [
        "com_df"
      ],
      "metadata": {
        "id": "S2ItAiJudli5"
      },
      "execution_count": null,
      "outputs": []
    },
    {
      "cell_type": "markdown",
      "metadata": {
        "id": "vRGOnciGOvq0"
      },
      "source": [
        "**Note:** It is not mandatory to use the method specified above. While sampling, you only need to make sure that your sampled data represents the overall data of all the months accurately."
      ]
    },
    {
      "cell_type": "code",
      "execution_count": null,
      "metadata": {
        "id": "3cpuzPFvP2iC"
      },
      "outputs": [],
      "source": [
        "# Sample the data\n",
        "# It is recommmended to not load all the files at once to avoid memory overload"
      ]
    },
    {
      "cell_type": "code",
      "execution_count": null,
      "metadata": {
        "id": "h3x5bCWmarTO"
      },
      "outputs": [],
      "source": [
        "# from google.colab import drive\n",
        "# drive.mount('/content/drive')"
      ]
    },
    {
      "cell_type": "code",
      "execution_count": null,
      "metadata": {
        "id": "t1EXP0PHzPs0"
      },
      "outputs": [],
      "source": [
        "# Take a small percentage of entries from each hour of every date.\n",
        "# Iterating through the monthly data:\n",
        "#   read a month file -> day -> hour: append sampled data -> move to next hour -> move to next day after 24 hours -> move to next month file\n",
        "# Create a single dataframe for the year combining all the monthly data\n",
        "\n",
        "# Select the folder having data files\n",
        "import os\n",
        "\n",
        "# Select the folder having data files\n",
        "os.chdir('/content/Assignments/EDA/data_NYC_Taxi/trip_records')\n",
        "\n",
        "# Create a list of all the twelve files to read\n",
        "file_list = os.listdir()\n",
        "\n",
        "# initialise an empty dataframe\n",
        "df = pd.DataFrame()\n",
        "\n",
        "\n",
        "# iterate through the list of files and sample one by one:\n",
        "for file_name in file_list:\n",
        "    try:\n",
        "        # file path for the current file\n",
        "        file_path = os.path.join(os.getcwd(), file_name)\n",
        "\n",
        "        # Reading the current file\n",
        "\n",
        "\n",
        "\n",
        "        # We will store the sampled data for the current date in this df by appending the sampled data from each hour to this\n",
        "        # After completing iteration through each date, we will append this data to the final dataframe.\n",
        "        sampled_data = pd.DataFrame()\n",
        "\n",
        "        # Loop through dates and then loop through every hour of each date\n",
        "\n",
        "            # Iterate through each hour of the selected date\n",
        "\n",
        "                # Sample 5% of the hourly data randomly\n",
        "\n",
        "                # add data of this hour to the dataframe\n",
        "\n",
        "        # Concatenate the sampled data of all the dates to a single dataframe\n",
        "        df = # we initialised this empty DF earlier\n",
        "\n",
        "    except Exception as e:\n",
        "        print(f\"Error reading file {file_name}: {e}\")"
      ]
    },
    {
      "cell_type": "markdown",
      "metadata": {
        "id": "Sej6pZkzw2AK"
      },
      "source": [
        "After combining the data files into one DataFrame, convert the new DataFrame to a CSV or parquet file and store it to use directly.\n",
        "\n",
        "Ideally, you can try keeping the total entries to around 250,000 to 300,000."
      ]
    },
    {
      "cell_type": "code",
      "execution_count": null,
      "metadata": {
        "id": "okaVAsdPxJow"
      },
      "outputs": [],
      "source": [
        "# Store the df in csv/parquet\n",
        "# df.to_parquet('')"
      ]
    },
    {
      "cell_type": "code",
      "source": [],
      "metadata": {
        "id": "Um9QcuRpbe-D"
      },
      "execution_count": null,
      "outputs": []
    },
    {
      "cell_type": "markdown",
      "metadata": {
        "id": "QaOS3H9izZ0N"
      },
      "source": [
        "## **2** Data Cleaning\n",
        "<font color = red>[30 marks]</font> <br>"
      ]
    },
    {
      "cell_type": "markdown",
      "metadata": {
        "id": "5y3PKWqhxRA9"
      },
      "source": [
        "Now we can load the new data directly."
      ]
    },
    {
      "cell_type": "code",
      "execution_count": 22,
      "metadata": {
        "id": "FOuOL0SDxQHd"
      },
      "outputs": [],
      "source": [
        "# Load the new data file\n",
        "\n"
      ]
    },
    {
      "cell_type": "code",
      "execution_count": 54,
      "metadata": {
        "id": "fbzmFKyn1780",
        "colab": {
          "base_uri": "https://localhost:8080/",
          "height": 226
        },
        "outputId": "d39eb511-1023-4b22-e19c-d76003eded86"
      },
      "outputs": [
        {
          "output_type": "execute_result",
          "data": {
            "text/plain": [
              "   VendorID tpep_pickup_datetime tpep_dropoff_datetime  passenger_count  \\\n",
              "0         2  2023-02-13 17:11:02   2023-02-13 17:16:46              1.0   \n",
              "1         2  2023-02-05 18:39:05   2023-02-05 19:10:29              2.0   \n",
              "2         2  2023-02-21 10:15:06   2023-02-21 10:51:25              1.0   \n",
              "3         2  2023-02-24 18:40:20   2023-02-24 18:55:07              1.0   \n",
              "4         2  2023-02-11 08:55:21   2023-02-11 09:16:10              1.0   \n",
              "\n",
              "   trip_distance  RatecodeID store_and_fwd_flag  PULocationID  DOLocationID  \\\n",
              "0           0.94         1.0                  N           141           262   \n",
              "1          10.39         1.0                  N           138            61   \n",
              "2          10.26         1.0                  N           138           163   \n",
              "3           1.53         1.0                  N           234           230   \n",
              "4          16.71         2.0                  N           137           132   \n",
              "\n",
              "   payment_type  fare_amount  extra  mta_tax  tip_amount  tolls_amount  \\\n",
              "0             1          7.9    2.5      0.5        2.88          0.00   \n",
              "1             1         45.0    5.0      0.5       10.00          0.00   \n",
              "2             1         47.8    5.0      0.5        3.00          6.55   \n",
              "3             1         14.2    2.5      0.5        4.14          0.00   \n",
              "4             1         70.0    0.0      0.5       24.16          6.55   \n",
              "\n",
              "   improvement_surcharge  total_amount  congestion_surcharge  Airport_fee  \n",
              "0                    1.0         17.28                   2.5         0.00  \n",
              "1                    1.0         62.75                   0.0         1.25  \n",
              "2                    1.0         67.60                   2.5         1.25  \n",
              "3                    1.0         24.84                   2.5         0.00  \n",
              "4                    1.0        104.71                   2.5         0.00  "
            ],
            "text/html": [
              "\n",
              "  <div id=\"df-c476784a-c564-4dda-8a50-61995bfb708c\" class=\"colab-df-container\">\n",
              "    <div>\n",
              "<style scoped>\n",
              "    .dataframe tbody tr th:only-of-type {\n",
              "        vertical-align: middle;\n",
              "    }\n",
              "\n",
              "    .dataframe tbody tr th {\n",
              "        vertical-align: top;\n",
              "    }\n",
              "\n",
              "    .dataframe thead th {\n",
              "        text-align: right;\n",
              "    }\n",
              "</style>\n",
              "<table border=\"1\" class=\"dataframe\">\n",
              "  <thead>\n",
              "    <tr style=\"text-align: right;\">\n",
              "      <th></th>\n",
              "      <th>VendorID</th>\n",
              "      <th>tpep_pickup_datetime</th>\n",
              "      <th>tpep_dropoff_datetime</th>\n",
              "      <th>passenger_count</th>\n",
              "      <th>trip_distance</th>\n",
              "      <th>RatecodeID</th>\n",
              "      <th>store_and_fwd_flag</th>\n",
              "      <th>PULocationID</th>\n",
              "      <th>DOLocationID</th>\n",
              "      <th>payment_type</th>\n",
              "      <th>fare_amount</th>\n",
              "      <th>extra</th>\n",
              "      <th>mta_tax</th>\n",
              "      <th>tip_amount</th>\n",
              "      <th>tolls_amount</th>\n",
              "      <th>improvement_surcharge</th>\n",
              "      <th>total_amount</th>\n",
              "      <th>congestion_surcharge</th>\n",
              "      <th>Airport_fee</th>\n",
              "    </tr>\n",
              "  </thead>\n",
              "  <tbody>\n",
              "    <tr>\n",
              "      <th>0</th>\n",
              "      <td>2</td>\n",
              "      <td>2023-02-13 17:11:02</td>\n",
              "      <td>2023-02-13 17:16:46</td>\n",
              "      <td>1.0</td>\n",
              "      <td>0.94</td>\n",
              "      <td>1.0</td>\n",
              "      <td>N</td>\n",
              "      <td>141</td>\n",
              "      <td>262</td>\n",
              "      <td>1</td>\n",
              "      <td>7.9</td>\n",
              "      <td>2.5</td>\n",
              "      <td>0.5</td>\n",
              "      <td>2.88</td>\n",
              "      <td>0.00</td>\n",
              "      <td>1.0</td>\n",
              "      <td>17.28</td>\n",
              "      <td>2.5</td>\n",
              "      <td>0.00</td>\n",
              "    </tr>\n",
              "    <tr>\n",
              "      <th>1</th>\n",
              "      <td>2</td>\n",
              "      <td>2023-02-05 18:39:05</td>\n",
              "      <td>2023-02-05 19:10:29</td>\n",
              "      <td>2.0</td>\n",
              "      <td>10.39</td>\n",
              "      <td>1.0</td>\n",
              "      <td>N</td>\n",
              "      <td>138</td>\n",
              "      <td>61</td>\n",
              "      <td>1</td>\n",
              "      <td>45.0</td>\n",
              "      <td>5.0</td>\n",
              "      <td>0.5</td>\n",
              "      <td>10.00</td>\n",
              "      <td>0.00</td>\n",
              "      <td>1.0</td>\n",
              "      <td>62.75</td>\n",
              "      <td>0.0</td>\n",
              "      <td>1.25</td>\n",
              "    </tr>\n",
              "    <tr>\n",
              "      <th>2</th>\n",
              "      <td>2</td>\n",
              "      <td>2023-02-21 10:15:06</td>\n",
              "      <td>2023-02-21 10:51:25</td>\n",
              "      <td>1.0</td>\n",
              "      <td>10.26</td>\n",
              "      <td>1.0</td>\n",
              "      <td>N</td>\n",
              "      <td>138</td>\n",
              "      <td>163</td>\n",
              "      <td>1</td>\n",
              "      <td>47.8</td>\n",
              "      <td>5.0</td>\n",
              "      <td>0.5</td>\n",
              "      <td>3.00</td>\n",
              "      <td>6.55</td>\n",
              "      <td>1.0</td>\n",
              "      <td>67.60</td>\n",
              "      <td>2.5</td>\n",
              "      <td>1.25</td>\n",
              "    </tr>\n",
              "    <tr>\n",
              "      <th>3</th>\n",
              "      <td>2</td>\n",
              "      <td>2023-02-24 18:40:20</td>\n",
              "      <td>2023-02-24 18:55:07</td>\n",
              "      <td>1.0</td>\n",
              "      <td>1.53</td>\n",
              "      <td>1.0</td>\n",
              "      <td>N</td>\n",
              "      <td>234</td>\n",
              "      <td>230</td>\n",
              "      <td>1</td>\n",
              "      <td>14.2</td>\n",
              "      <td>2.5</td>\n",
              "      <td>0.5</td>\n",
              "      <td>4.14</td>\n",
              "      <td>0.00</td>\n",
              "      <td>1.0</td>\n",
              "      <td>24.84</td>\n",
              "      <td>2.5</td>\n",
              "      <td>0.00</td>\n",
              "    </tr>\n",
              "    <tr>\n",
              "      <th>4</th>\n",
              "      <td>2</td>\n",
              "      <td>2023-02-11 08:55:21</td>\n",
              "      <td>2023-02-11 09:16:10</td>\n",
              "      <td>1.0</td>\n",
              "      <td>16.71</td>\n",
              "      <td>2.0</td>\n",
              "      <td>N</td>\n",
              "      <td>137</td>\n",
              "      <td>132</td>\n",
              "      <td>1</td>\n",
              "      <td>70.0</td>\n",
              "      <td>0.0</td>\n",
              "      <td>0.5</td>\n",
              "      <td>24.16</td>\n",
              "      <td>6.55</td>\n",
              "      <td>1.0</td>\n",
              "      <td>104.71</td>\n",
              "      <td>2.5</td>\n",
              "      <td>0.00</td>\n",
              "    </tr>\n",
              "  </tbody>\n",
              "</table>\n",
              "</div>\n",
              "    <div class=\"colab-df-buttons\">\n",
              "\n",
              "  <div class=\"colab-df-container\">\n",
              "    <button class=\"colab-df-convert\" onclick=\"convertToInteractive('df-c476784a-c564-4dda-8a50-61995bfb708c')\"\n",
              "            title=\"Convert this dataframe to an interactive table.\"\n",
              "            style=\"display:none;\">\n",
              "\n",
              "  <svg xmlns=\"http://www.w3.org/2000/svg\" height=\"24px\" viewBox=\"0 -960 960 960\">\n",
              "    <path d=\"M120-120v-720h720v720H120Zm60-500h600v-160H180v160Zm220 220h160v-160H400v160Zm0 220h160v-160H400v160ZM180-400h160v-160H180v160Zm440 0h160v-160H620v160ZM180-180h160v-160H180v160Zm440 0h160v-160H620v160Z\"/>\n",
              "  </svg>\n",
              "    </button>\n",
              "\n",
              "  <style>\n",
              "    .colab-df-container {\n",
              "      display:flex;\n",
              "      gap: 12px;\n",
              "    }\n",
              "\n",
              "    .colab-df-convert {\n",
              "      background-color: #E8F0FE;\n",
              "      border: none;\n",
              "      border-radius: 50%;\n",
              "      cursor: pointer;\n",
              "      display: none;\n",
              "      fill: #1967D2;\n",
              "      height: 32px;\n",
              "      padding: 0 0 0 0;\n",
              "      width: 32px;\n",
              "    }\n",
              "\n",
              "    .colab-df-convert:hover {\n",
              "      background-color: #E2EBFA;\n",
              "      box-shadow: 0px 1px 2px rgba(60, 64, 67, 0.3), 0px 1px 3px 1px rgba(60, 64, 67, 0.15);\n",
              "      fill: #174EA6;\n",
              "    }\n",
              "\n",
              "    .colab-df-buttons div {\n",
              "      margin-bottom: 4px;\n",
              "    }\n",
              "\n",
              "    [theme=dark] .colab-df-convert {\n",
              "      background-color: #3B4455;\n",
              "      fill: #D2E3FC;\n",
              "    }\n",
              "\n",
              "    [theme=dark] .colab-df-convert:hover {\n",
              "      background-color: #434B5C;\n",
              "      box-shadow: 0px 1px 3px 1px rgba(0, 0, 0, 0.15);\n",
              "      filter: drop-shadow(0px 1px 2px rgba(0, 0, 0, 0.3));\n",
              "      fill: #FFFFFF;\n",
              "    }\n",
              "  </style>\n",
              "\n",
              "    <script>\n",
              "      const buttonEl =\n",
              "        document.querySelector('#df-c476784a-c564-4dda-8a50-61995bfb708c button.colab-df-convert');\n",
              "      buttonEl.style.display =\n",
              "        google.colab.kernel.accessAllowed ? 'block' : 'none';\n",
              "\n",
              "      async function convertToInteractive(key) {\n",
              "        const element = document.querySelector('#df-c476784a-c564-4dda-8a50-61995bfb708c');\n",
              "        const dataTable =\n",
              "          await google.colab.kernel.invokeFunction('convertToInteractive',\n",
              "                                                    [key], {});\n",
              "        if (!dataTable) return;\n",
              "\n",
              "        const docLinkHtml = 'Like what you see? Visit the ' +\n",
              "          '<a target=\"_blank\" href=https://colab.research.google.com/notebooks/data_table.ipynb>data table notebook</a>'\n",
              "          + ' to learn more about interactive tables.';\n",
              "        element.innerHTML = '';\n",
              "        dataTable['output_type'] = 'display_data';\n",
              "        await google.colab.output.renderOutput(dataTable, element);\n",
              "        const docLink = document.createElement('div');\n",
              "        docLink.innerHTML = docLinkHtml;\n",
              "        element.appendChild(docLink);\n",
              "      }\n",
              "    </script>\n",
              "  </div>\n",
              "\n",
              "\n",
              "<div id=\"df-4cafee91-bc48-480d-a981-9ed30976340a\">\n",
              "  <button class=\"colab-df-quickchart\" onclick=\"quickchart('df-4cafee91-bc48-480d-a981-9ed30976340a')\"\n",
              "            title=\"Suggest charts\"\n",
              "            style=\"display:none;\">\n",
              "\n",
              "<svg xmlns=\"http://www.w3.org/2000/svg\" height=\"24px\"viewBox=\"0 0 24 24\"\n",
              "     width=\"24px\">\n",
              "    <g>\n",
              "        <path d=\"M19 3H5c-1.1 0-2 .9-2 2v14c0 1.1.9 2 2 2h14c1.1 0 2-.9 2-2V5c0-1.1-.9-2-2-2zM9 17H7v-7h2v7zm4 0h-2V7h2v10zm4 0h-2v-4h2v4z\"/>\n",
              "    </g>\n",
              "</svg>\n",
              "  </button>\n",
              "\n",
              "<style>\n",
              "  .colab-df-quickchart {\n",
              "      --bg-color: #E8F0FE;\n",
              "      --fill-color: #1967D2;\n",
              "      --hover-bg-color: #E2EBFA;\n",
              "      --hover-fill-color: #174EA6;\n",
              "      --disabled-fill-color: #AAA;\n",
              "      --disabled-bg-color: #DDD;\n",
              "  }\n",
              "\n",
              "  [theme=dark] .colab-df-quickchart {\n",
              "      --bg-color: #3B4455;\n",
              "      --fill-color: #D2E3FC;\n",
              "      --hover-bg-color: #434B5C;\n",
              "      --hover-fill-color: #FFFFFF;\n",
              "      --disabled-bg-color: #3B4455;\n",
              "      --disabled-fill-color: #666;\n",
              "  }\n",
              "\n",
              "  .colab-df-quickchart {\n",
              "    background-color: var(--bg-color);\n",
              "    border: none;\n",
              "    border-radius: 50%;\n",
              "    cursor: pointer;\n",
              "    display: none;\n",
              "    fill: var(--fill-color);\n",
              "    height: 32px;\n",
              "    padding: 0;\n",
              "    width: 32px;\n",
              "  }\n",
              "\n",
              "  .colab-df-quickchart:hover {\n",
              "    background-color: var(--hover-bg-color);\n",
              "    box-shadow: 0 1px 2px rgba(60, 64, 67, 0.3), 0 1px 3px 1px rgba(60, 64, 67, 0.15);\n",
              "    fill: var(--button-hover-fill-color);\n",
              "  }\n",
              "\n",
              "  .colab-df-quickchart-complete:disabled,\n",
              "  .colab-df-quickchart-complete:disabled:hover {\n",
              "    background-color: var(--disabled-bg-color);\n",
              "    fill: var(--disabled-fill-color);\n",
              "    box-shadow: none;\n",
              "  }\n",
              "\n",
              "  .colab-df-spinner {\n",
              "    border: 2px solid var(--fill-color);\n",
              "    border-color: transparent;\n",
              "    border-bottom-color: var(--fill-color);\n",
              "    animation:\n",
              "      spin 1s steps(1) infinite;\n",
              "  }\n",
              "\n",
              "  @keyframes spin {\n",
              "    0% {\n",
              "      border-color: transparent;\n",
              "      border-bottom-color: var(--fill-color);\n",
              "      border-left-color: var(--fill-color);\n",
              "    }\n",
              "    20% {\n",
              "      border-color: transparent;\n",
              "      border-left-color: var(--fill-color);\n",
              "      border-top-color: var(--fill-color);\n",
              "    }\n",
              "    30% {\n",
              "      border-color: transparent;\n",
              "      border-left-color: var(--fill-color);\n",
              "      border-top-color: var(--fill-color);\n",
              "      border-right-color: var(--fill-color);\n",
              "    }\n",
              "    40% {\n",
              "      border-color: transparent;\n",
              "      border-right-color: var(--fill-color);\n",
              "      border-top-color: var(--fill-color);\n",
              "    }\n",
              "    60% {\n",
              "      border-color: transparent;\n",
              "      border-right-color: var(--fill-color);\n",
              "    }\n",
              "    80% {\n",
              "      border-color: transparent;\n",
              "      border-right-color: var(--fill-color);\n",
              "      border-bottom-color: var(--fill-color);\n",
              "    }\n",
              "    90% {\n",
              "      border-color: transparent;\n",
              "      border-bottom-color: var(--fill-color);\n",
              "    }\n",
              "  }\n",
              "</style>\n",
              "\n",
              "  <script>\n",
              "    async function quickchart(key) {\n",
              "      const quickchartButtonEl =\n",
              "        document.querySelector('#' + key + ' button');\n",
              "      quickchartButtonEl.disabled = true;  // To prevent multiple clicks.\n",
              "      quickchartButtonEl.classList.add('colab-df-spinner');\n",
              "      try {\n",
              "        const charts = await google.colab.kernel.invokeFunction(\n",
              "            'suggestCharts', [key], {});\n",
              "      } catch (error) {\n",
              "        console.error('Error during call to suggestCharts:', error);\n",
              "      }\n",
              "      quickchartButtonEl.classList.remove('colab-df-spinner');\n",
              "      quickchartButtonEl.classList.add('colab-df-quickchart-complete');\n",
              "    }\n",
              "    (() => {\n",
              "      let quickchartButtonEl =\n",
              "        document.querySelector('#df-4cafee91-bc48-480d-a981-9ed30976340a button');\n",
              "      quickchartButtonEl.style.display =\n",
              "        google.colab.kernel.accessAllowed ? 'block' : 'none';\n",
              "    })();\n",
              "  </script>\n",
              "</div>\n",
              "\n",
              "    </div>\n",
              "  </div>\n"
            ],
            "application/vnd.google.colaboratory.intrinsic+json": {
              "type": "dataframe",
              "variable_name": "com_df"
            }
          },
          "metadata": {},
          "execution_count": 54
        }
      ],
      "source": [
        "# df.head()\n",
        "com_df.head()"
      ]
    },
    {
      "cell_type": "code",
      "execution_count": 56,
      "metadata": {
        "id": "FH83U4A49ErC",
        "colab": {
          "base_uri": "https://localhost:8080/"
        },
        "outputId": "2ae77db2-e577-4594-e969-b6935c4f06de"
      },
      "outputs": [
        {
          "output_type": "stream",
          "name": "stdout",
          "text": [
            "<class 'pandas.core.frame.DataFrame'>\n",
            "RangeIndex: 286180 entries, 0 to 286179\n",
            "Data columns (total 19 columns):\n",
            " #   Column                 Non-Null Count   Dtype         \n",
            "---  ------                 --------------   -----         \n",
            " 0   VendorID               286180 non-null  int32         \n",
            " 1   tpep_pickup_datetime   286180 non-null  datetime64[us]\n",
            " 2   tpep_dropoff_datetime  286180 non-null  datetime64[us]\n",
            " 3   passenger_count        276296 non-null  float64       \n",
            " 4   trip_distance          286180 non-null  float64       \n",
            " 5   RatecodeID             276296 non-null  float64       \n",
            " 6   store_and_fwd_flag     276296 non-null  object        \n",
            " 7   PULocationID           286180 non-null  int32         \n",
            " 8   DOLocationID           286180 non-null  int32         \n",
            " 9   payment_type           286180 non-null  int64         \n",
            " 10  fare_amount            286180 non-null  float64       \n",
            " 11  extra                  286180 non-null  float64       \n",
            " 12  mta_tax                286180 non-null  float64       \n",
            " 13  tip_amount             286180 non-null  float64       \n",
            " 14  tolls_amount           286180 non-null  float64       \n",
            " 15  improvement_surcharge  286180 non-null  float64       \n",
            " 16  total_amount           286180 non-null  float64       \n",
            " 17  congestion_surcharge   276296 non-null  float64       \n",
            " 18  Airport_fee            276296 non-null  float64       \n",
            "dtypes: datetime64[us](2), float64(12), int32(3), int64(1), object(1)\n",
            "memory usage: 38.2+ MB\n"
          ]
        }
      ],
      "source": [
        "# df.info()\n",
        "com_df.info()"
      ]
    },
    {
      "cell_type": "markdown",
      "metadata": {
        "id": "HZvPSwJx0S3K"
      },
      "source": [
        "#### **2.1** Fixing Columns\n",
        "<font color = red>[10 marks]</font> <br>\n",
        "\n",
        "Fix/drop any columns as you seem necessary in the below sections"
      ]
    },
    {
      "cell_type": "code",
      "source": [
        "com_df.tail()"
      ],
      "metadata": {
        "colab": {
          "base_uri": "https://localhost:8080/",
          "height": 226
        },
        "id": "v3Kp6XliwegN",
        "outputId": "e0bb6123-f080-4101-c05f-5e5f53ce4e79"
      },
      "execution_count": 57,
      "outputs": [
        {
          "output_type": "execute_result",
          "data": {
            "text/plain": [
              "        VendorID tpep_pickup_datetime tpep_dropoff_datetime  passenger_count  \\\n",
              "286175         2  2023-12-12 09:40:32   2023-12-12 09:44:36              1.0   \n",
              "286176         2  2023-12-30 12:50:08   2023-12-30 13:21:16              1.0   \n",
              "286177         1  2023-12-28 12:57:03   2023-12-28 13:12:19              2.0   \n",
              "286178         2  2023-12-10 15:37:47   2023-12-10 15:49:04              1.0   \n",
              "286179         2  2023-12-14 22:42:23   2023-12-14 22:48:38              1.0   \n",
              "\n",
              "        trip_distance  RatecodeID store_and_fwd_flag  PULocationID  \\\n",
              "286175           1.01         1.0                  N           238   \n",
              "286176           6.85         1.0                  N           231   \n",
              "286177           2.50         1.0                  N            41   \n",
              "286178           2.22         1.0                  N           163   \n",
              "286179           1.11         1.0                  N           164   \n",
              "\n",
              "        DOLocationID  payment_type  fare_amount  extra  mta_tax  tip_amount  \\\n",
              "286175           142             1          7.2    0.0      0.5        2.80   \n",
              "286176            43             1         36.6    0.0      0.5        8.12   \n",
              "286177           239             1         16.3    2.5      0.5        4.05   \n",
              "286178           236             1         14.2    0.0      0.5        3.64   \n",
              "286179           234             1          8.6    1.0      0.5        2.00   \n",
              "\n",
              "        tolls_amount  improvement_surcharge  total_amount  \\\n",
              "286175           0.0                    1.0         14.00   \n",
              "286176           0.0                    1.0         48.72   \n",
              "286177           0.0                    1.0         24.35   \n",
              "286178           0.0                    1.0         21.84   \n",
              "286179           0.0                    1.0         15.60   \n",
              "\n",
              "        congestion_surcharge  Airport_fee  \n",
              "286175                   2.5          0.0  \n",
              "286176                   2.5          0.0  \n",
              "286177                   2.5          0.0  \n",
              "286178                   2.5          0.0  \n",
              "286179                   2.5          0.0  "
            ],
            "text/html": [
              "\n",
              "  <div id=\"df-88ac8668-29e4-4188-a298-3fc7caa36f3c\" class=\"colab-df-container\">\n",
              "    <div>\n",
              "<style scoped>\n",
              "    .dataframe tbody tr th:only-of-type {\n",
              "        vertical-align: middle;\n",
              "    }\n",
              "\n",
              "    .dataframe tbody tr th {\n",
              "        vertical-align: top;\n",
              "    }\n",
              "\n",
              "    .dataframe thead th {\n",
              "        text-align: right;\n",
              "    }\n",
              "</style>\n",
              "<table border=\"1\" class=\"dataframe\">\n",
              "  <thead>\n",
              "    <tr style=\"text-align: right;\">\n",
              "      <th></th>\n",
              "      <th>VendorID</th>\n",
              "      <th>tpep_pickup_datetime</th>\n",
              "      <th>tpep_dropoff_datetime</th>\n",
              "      <th>passenger_count</th>\n",
              "      <th>trip_distance</th>\n",
              "      <th>RatecodeID</th>\n",
              "      <th>store_and_fwd_flag</th>\n",
              "      <th>PULocationID</th>\n",
              "      <th>DOLocationID</th>\n",
              "      <th>payment_type</th>\n",
              "      <th>fare_amount</th>\n",
              "      <th>extra</th>\n",
              "      <th>mta_tax</th>\n",
              "      <th>tip_amount</th>\n",
              "      <th>tolls_amount</th>\n",
              "      <th>improvement_surcharge</th>\n",
              "      <th>total_amount</th>\n",
              "      <th>congestion_surcharge</th>\n",
              "      <th>Airport_fee</th>\n",
              "    </tr>\n",
              "  </thead>\n",
              "  <tbody>\n",
              "    <tr>\n",
              "      <th>286175</th>\n",
              "      <td>2</td>\n",
              "      <td>2023-12-12 09:40:32</td>\n",
              "      <td>2023-12-12 09:44:36</td>\n",
              "      <td>1.0</td>\n",
              "      <td>1.01</td>\n",
              "      <td>1.0</td>\n",
              "      <td>N</td>\n",
              "      <td>238</td>\n",
              "      <td>142</td>\n",
              "      <td>1</td>\n",
              "      <td>7.2</td>\n",
              "      <td>0.0</td>\n",
              "      <td>0.5</td>\n",
              "      <td>2.80</td>\n",
              "      <td>0.0</td>\n",
              "      <td>1.0</td>\n",
              "      <td>14.00</td>\n",
              "      <td>2.5</td>\n",
              "      <td>0.0</td>\n",
              "    </tr>\n",
              "    <tr>\n",
              "      <th>286176</th>\n",
              "      <td>2</td>\n",
              "      <td>2023-12-30 12:50:08</td>\n",
              "      <td>2023-12-30 13:21:16</td>\n",
              "      <td>1.0</td>\n",
              "      <td>6.85</td>\n",
              "      <td>1.0</td>\n",
              "      <td>N</td>\n",
              "      <td>231</td>\n",
              "      <td>43</td>\n",
              "      <td>1</td>\n",
              "      <td>36.6</td>\n",
              "      <td>0.0</td>\n",
              "      <td>0.5</td>\n",
              "      <td>8.12</td>\n",
              "      <td>0.0</td>\n",
              "      <td>1.0</td>\n",
              "      <td>48.72</td>\n",
              "      <td>2.5</td>\n",
              "      <td>0.0</td>\n",
              "    </tr>\n",
              "    <tr>\n",
              "      <th>286177</th>\n",
              "      <td>1</td>\n",
              "      <td>2023-12-28 12:57:03</td>\n",
              "      <td>2023-12-28 13:12:19</td>\n",
              "      <td>2.0</td>\n",
              "      <td>2.50</td>\n",
              "      <td>1.0</td>\n",
              "      <td>N</td>\n",
              "      <td>41</td>\n",
              "      <td>239</td>\n",
              "      <td>1</td>\n",
              "      <td>16.3</td>\n",
              "      <td>2.5</td>\n",
              "      <td>0.5</td>\n",
              "      <td>4.05</td>\n",
              "      <td>0.0</td>\n",
              "      <td>1.0</td>\n",
              "      <td>24.35</td>\n",
              "      <td>2.5</td>\n",
              "      <td>0.0</td>\n",
              "    </tr>\n",
              "    <tr>\n",
              "      <th>286178</th>\n",
              "      <td>2</td>\n",
              "      <td>2023-12-10 15:37:47</td>\n",
              "      <td>2023-12-10 15:49:04</td>\n",
              "      <td>1.0</td>\n",
              "      <td>2.22</td>\n",
              "      <td>1.0</td>\n",
              "      <td>N</td>\n",
              "      <td>163</td>\n",
              "      <td>236</td>\n",
              "      <td>1</td>\n",
              "      <td>14.2</td>\n",
              "      <td>0.0</td>\n",
              "      <td>0.5</td>\n",
              "      <td>3.64</td>\n",
              "      <td>0.0</td>\n",
              "      <td>1.0</td>\n",
              "      <td>21.84</td>\n",
              "      <td>2.5</td>\n",
              "      <td>0.0</td>\n",
              "    </tr>\n",
              "    <tr>\n",
              "      <th>286179</th>\n",
              "      <td>2</td>\n",
              "      <td>2023-12-14 22:42:23</td>\n",
              "      <td>2023-12-14 22:48:38</td>\n",
              "      <td>1.0</td>\n",
              "      <td>1.11</td>\n",
              "      <td>1.0</td>\n",
              "      <td>N</td>\n",
              "      <td>164</td>\n",
              "      <td>234</td>\n",
              "      <td>1</td>\n",
              "      <td>8.6</td>\n",
              "      <td>1.0</td>\n",
              "      <td>0.5</td>\n",
              "      <td>2.00</td>\n",
              "      <td>0.0</td>\n",
              "      <td>1.0</td>\n",
              "      <td>15.60</td>\n",
              "      <td>2.5</td>\n",
              "      <td>0.0</td>\n",
              "    </tr>\n",
              "  </tbody>\n",
              "</table>\n",
              "</div>\n",
              "    <div class=\"colab-df-buttons\">\n",
              "\n",
              "  <div class=\"colab-df-container\">\n",
              "    <button class=\"colab-df-convert\" onclick=\"convertToInteractive('df-88ac8668-29e4-4188-a298-3fc7caa36f3c')\"\n",
              "            title=\"Convert this dataframe to an interactive table.\"\n",
              "            style=\"display:none;\">\n",
              "\n",
              "  <svg xmlns=\"http://www.w3.org/2000/svg\" height=\"24px\" viewBox=\"0 -960 960 960\">\n",
              "    <path d=\"M120-120v-720h720v720H120Zm60-500h600v-160H180v160Zm220 220h160v-160H400v160Zm0 220h160v-160H400v160ZM180-400h160v-160H180v160Zm440 0h160v-160H620v160ZM180-180h160v-160H180v160Zm440 0h160v-160H620v160Z\"/>\n",
              "  </svg>\n",
              "    </button>\n",
              "\n",
              "  <style>\n",
              "    .colab-df-container {\n",
              "      display:flex;\n",
              "      gap: 12px;\n",
              "    }\n",
              "\n",
              "    .colab-df-convert {\n",
              "      background-color: #E8F0FE;\n",
              "      border: none;\n",
              "      border-radius: 50%;\n",
              "      cursor: pointer;\n",
              "      display: none;\n",
              "      fill: #1967D2;\n",
              "      height: 32px;\n",
              "      padding: 0 0 0 0;\n",
              "      width: 32px;\n",
              "    }\n",
              "\n",
              "    .colab-df-convert:hover {\n",
              "      background-color: #E2EBFA;\n",
              "      box-shadow: 0px 1px 2px rgba(60, 64, 67, 0.3), 0px 1px 3px 1px rgba(60, 64, 67, 0.15);\n",
              "      fill: #174EA6;\n",
              "    }\n",
              "\n",
              "    .colab-df-buttons div {\n",
              "      margin-bottom: 4px;\n",
              "    }\n",
              "\n",
              "    [theme=dark] .colab-df-convert {\n",
              "      background-color: #3B4455;\n",
              "      fill: #D2E3FC;\n",
              "    }\n",
              "\n",
              "    [theme=dark] .colab-df-convert:hover {\n",
              "      background-color: #434B5C;\n",
              "      box-shadow: 0px 1px 3px 1px rgba(0, 0, 0, 0.15);\n",
              "      filter: drop-shadow(0px 1px 2px rgba(0, 0, 0, 0.3));\n",
              "      fill: #FFFFFF;\n",
              "    }\n",
              "  </style>\n",
              "\n",
              "    <script>\n",
              "      const buttonEl =\n",
              "        document.querySelector('#df-88ac8668-29e4-4188-a298-3fc7caa36f3c button.colab-df-convert');\n",
              "      buttonEl.style.display =\n",
              "        google.colab.kernel.accessAllowed ? 'block' : 'none';\n",
              "\n",
              "      async function convertToInteractive(key) {\n",
              "        const element = document.querySelector('#df-88ac8668-29e4-4188-a298-3fc7caa36f3c');\n",
              "        const dataTable =\n",
              "          await google.colab.kernel.invokeFunction('convertToInteractive',\n",
              "                                                    [key], {});\n",
              "        if (!dataTable) return;\n",
              "\n",
              "        const docLinkHtml = 'Like what you see? Visit the ' +\n",
              "          '<a target=\"_blank\" href=https://colab.research.google.com/notebooks/data_table.ipynb>data table notebook</a>'\n",
              "          + ' to learn more about interactive tables.';\n",
              "        element.innerHTML = '';\n",
              "        dataTable['output_type'] = 'display_data';\n",
              "        await google.colab.output.renderOutput(dataTable, element);\n",
              "        const docLink = document.createElement('div');\n",
              "        docLink.innerHTML = docLinkHtml;\n",
              "        element.appendChild(docLink);\n",
              "      }\n",
              "    </script>\n",
              "  </div>\n",
              "\n",
              "\n",
              "<div id=\"df-ee395dee-c592-4bda-b02c-579bfc695f5a\">\n",
              "  <button class=\"colab-df-quickchart\" onclick=\"quickchart('df-ee395dee-c592-4bda-b02c-579bfc695f5a')\"\n",
              "            title=\"Suggest charts\"\n",
              "            style=\"display:none;\">\n",
              "\n",
              "<svg xmlns=\"http://www.w3.org/2000/svg\" height=\"24px\"viewBox=\"0 0 24 24\"\n",
              "     width=\"24px\">\n",
              "    <g>\n",
              "        <path d=\"M19 3H5c-1.1 0-2 .9-2 2v14c0 1.1.9 2 2 2h14c1.1 0 2-.9 2-2V5c0-1.1-.9-2-2-2zM9 17H7v-7h2v7zm4 0h-2V7h2v10zm4 0h-2v-4h2v4z\"/>\n",
              "    </g>\n",
              "</svg>\n",
              "  </button>\n",
              "\n",
              "<style>\n",
              "  .colab-df-quickchart {\n",
              "      --bg-color: #E8F0FE;\n",
              "      --fill-color: #1967D2;\n",
              "      --hover-bg-color: #E2EBFA;\n",
              "      --hover-fill-color: #174EA6;\n",
              "      --disabled-fill-color: #AAA;\n",
              "      --disabled-bg-color: #DDD;\n",
              "  }\n",
              "\n",
              "  [theme=dark] .colab-df-quickchart {\n",
              "      --bg-color: #3B4455;\n",
              "      --fill-color: #D2E3FC;\n",
              "      --hover-bg-color: #434B5C;\n",
              "      --hover-fill-color: #FFFFFF;\n",
              "      --disabled-bg-color: #3B4455;\n",
              "      --disabled-fill-color: #666;\n",
              "  }\n",
              "\n",
              "  .colab-df-quickchart {\n",
              "    background-color: var(--bg-color);\n",
              "    border: none;\n",
              "    border-radius: 50%;\n",
              "    cursor: pointer;\n",
              "    display: none;\n",
              "    fill: var(--fill-color);\n",
              "    height: 32px;\n",
              "    padding: 0;\n",
              "    width: 32px;\n",
              "  }\n",
              "\n",
              "  .colab-df-quickchart:hover {\n",
              "    background-color: var(--hover-bg-color);\n",
              "    box-shadow: 0 1px 2px rgba(60, 64, 67, 0.3), 0 1px 3px 1px rgba(60, 64, 67, 0.15);\n",
              "    fill: var(--button-hover-fill-color);\n",
              "  }\n",
              "\n",
              "  .colab-df-quickchart-complete:disabled,\n",
              "  .colab-df-quickchart-complete:disabled:hover {\n",
              "    background-color: var(--disabled-bg-color);\n",
              "    fill: var(--disabled-fill-color);\n",
              "    box-shadow: none;\n",
              "  }\n",
              "\n",
              "  .colab-df-spinner {\n",
              "    border: 2px solid var(--fill-color);\n",
              "    border-color: transparent;\n",
              "    border-bottom-color: var(--fill-color);\n",
              "    animation:\n",
              "      spin 1s steps(1) infinite;\n",
              "  }\n",
              "\n",
              "  @keyframes spin {\n",
              "    0% {\n",
              "      border-color: transparent;\n",
              "      border-bottom-color: var(--fill-color);\n",
              "      border-left-color: var(--fill-color);\n",
              "    }\n",
              "    20% {\n",
              "      border-color: transparent;\n",
              "      border-left-color: var(--fill-color);\n",
              "      border-top-color: var(--fill-color);\n",
              "    }\n",
              "    30% {\n",
              "      border-color: transparent;\n",
              "      border-left-color: var(--fill-color);\n",
              "      border-top-color: var(--fill-color);\n",
              "      border-right-color: var(--fill-color);\n",
              "    }\n",
              "    40% {\n",
              "      border-color: transparent;\n",
              "      border-right-color: var(--fill-color);\n",
              "      border-top-color: var(--fill-color);\n",
              "    }\n",
              "    60% {\n",
              "      border-color: transparent;\n",
              "      border-right-color: var(--fill-color);\n",
              "    }\n",
              "    80% {\n",
              "      border-color: transparent;\n",
              "      border-right-color: var(--fill-color);\n",
              "      border-bottom-color: var(--fill-color);\n",
              "    }\n",
              "    90% {\n",
              "      border-color: transparent;\n",
              "      border-bottom-color: var(--fill-color);\n",
              "    }\n",
              "  }\n",
              "</style>\n",
              "\n",
              "  <script>\n",
              "    async function quickchart(key) {\n",
              "      const quickchartButtonEl =\n",
              "        document.querySelector('#' + key + ' button');\n",
              "      quickchartButtonEl.disabled = true;  // To prevent multiple clicks.\n",
              "      quickchartButtonEl.classList.add('colab-df-spinner');\n",
              "      try {\n",
              "        const charts = await google.colab.kernel.invokeFunction(\n",
              "            'suggestCharts', [key], {});\n",
              "      } catch (error) {\n",
              "        console.error('Error during call to suggestCharts:', error);\n",
              "      }\n",
              "      quickchartButtonEl.classList.remove('colab-df-spinner');\n",
              "      quickchartButtonEl.classList.add('colab-df-quickchart-complete');\n",
              "    }\n",
              "    (() => {\n",
              "      let quickchartButtonEl =\n",
              "        document.querySelector('#df-ee395dee-c592-4bda-b02c-579bfc695f5a button');\n",
              "      quickchartButtonEl.style.display =\n",
              "        google.colab.kernel.accessAllowed ? 'block' : 'none';\n",
              "    })();\n",
              "  </script>\n",
              "</div>\n",
              "\n",
              "    </div>\n",
              "  </div>\n"
            ],
            "application/vnd.google.colaboratory.intrinsic+json": {
              "type": "dataframe",
              "summary": "{\n  \"name\": \"com_df\",\n  \"rows\": 5,\n  \"fields\": [\n    {\n      \"column\": \"VendorID\",\n      \"properties\": {\n        \"dtype\": \"int32\",\n        \"num_unique_values\": 2,\n        \"samples\": [\n          1,\n          2\n        ],\n        \"semantic_type\": \"\",\n        \"description\": \"\"\n      }\n    },\n    {\n      \"column\": \"tpep_pickup_datetime\",\n      \"properties\": {\n        \"dtype\": \"date\",\n        \"min\": \"2023-12-10 15:37:47\",\n        \"max\": \"2023-12-30 12:50:08\",\n        \"num_unique_values\": 5,\n        \"samples\": [\n          \"2023-12-30 12:50:08\",\n          \"2023-12-14 22:42:23\"\n        ],\n        \"semantic_type\": \"\",\n        \"description\": \"\"\n      }\n    },\n    {\n      \"column\": \"tpep_dropoff_datetime\",\n      \"properties\": {\n        \"dtype\": \"date\",\n        \"min\": \"2023-12-10 15:49:04\",\n        \"max\": \"2023-12-30 13:21:16\",\n        \"num_unique_values\": 5,\n        \"samples\": [\n          \"2023-12-30 13:21:16\",\n          \"2023-12-14 22:48:38\"\n        ],\n        \"semantic_type\": \"\",\n        \"description\": \"\"\n      }\n    },\n    {\n      \"column\": \"passenger_count\",\n      \"properties\": {\n        \"dtype\": \"number\",\n        \"std\": 0.4472135954999579,\n        \"min\": 1.0,\n        \"max\": 2.0,\n        \"num_unique_values\": 2,\n        \"samples\": [\n          2.0,\n          1.0\n        ],\n        \"semantic_type\": \"\",\n        \"description\": \"\"\n      }\n    },\n    {\n      \"column\": \"trip_distance\",\n      \"properties\": {\n        \"dtype\": \"number\",\n        \"std\": 2.391123167049326,\n        \"min\": 1.01,\n        \"max\": 6.85,\n        \"num_unique_values\": 5,\n        \"samples\": [\n          6.85,\n          1.11\n        ],\n        \"semantic_type\": \"\",\n        \"description\": \"\"\n      }\n    },\n    {\n      \"column\": \"RatecodeID\",\n      \"properties\": {\n        \"dtype\": \"number\",\n        \"std\": 0.0,\n        \"min\": 1.0,\n        \"max\": 1.0,\n        \"num_unique_values\": 1,\n        \"samples\": [\n          1.0\n        ],\n        \"semantic_type\": \"\",\n        \"description\": \"\"\n      }\n    },\n    {\n      \"column\": \"store_and_fwd_flag\",\n      \"properties\": {\n        \"dtype\": \"category\",\n        \"num_unique_values\": 1,\n        \"samples\": [\n          \"N\"\n        ],\n        \"semantic_type\": \"\",\n        \"description\": \"\"\n      }\n    },\n    {\n      \"column\": \"PULocationID\",\n      \"properties\": {\n        \"dtype\": \"int32\",\n        \"num_unique_values\": 5,\n        \"samples\": [\n          231\n        ],\n        \"semantic_type\": \"\",\n        \"description\": \"\"\n      }\n    },\n    {\n      \"column\": \"DOLocationID\",\n      \"properties\": {\n        \"dtype\": \"int32\",\n        \"num_unique_values\": 5,\n        \"samples\": [\n          43\n        ],\n        \"semantic_type\": \"\",\n        \"description\": \"\"\n      }\n    },\n    {\n      \"column\": \"payment_type\",\n      \"properties\": {\n        \"dtype\": \"number\",\n        \"std\": 0,\n        \"min\": 1,\n        \"max\": 1,\n        \"num_unique_values\": 1,\n        \"samples\": [\n          1\n        ],\n        \"semantic_type\": \"\",\n        \"description\": \"\"\n      }\n    },\n    {\n      \"column\": \"fare_amount\",\n      \"properties\": {\n        \"dtype\": \"number\",\n        \"std\": 11.813212941448233,\n        \"min\": 7.2,\n        \"max\": 36.6,\n        \"num_unique_values\": 5,\n        \"samples\": [\n          36.6\n        ],\n        \"semantic_type\": \"\",\n        \"description\": \"\"\n      }\n    },\n    {\n      \"column\": \"extra\",\n      \"properties\": {\n        \"dtype\": \"number\",\n        \"std\": 1.0954451150103321,\n        \"min\": 0.0,\n        \"max\": 2.5,\n        \"num_unique_values\": 3,\n        \"samples\": [\n          0.0\n        ],\n        \"semantic_type\": \"\",\n        \"description\": \"\"\n      }\n    },\n    {\n      \"column\": \"mta_tax\",\n      \"properties\": {\n        \"dtype\": \"number\",\n        \"std\": 0.0,\n        \"min\": 0.5,\n        \"max\": 0.5,\n        \"num_unique_values\": 1,\n        \"samples\": [\n          0.5\n        ],\n        \"semantic_type\": \"\",\n        \"description\": \"\"\n      }\n    },\n    {\n      \"column\": \"tip_amount\",\n      \"properties\": {\n        \"dtype\": \"number\",\n        \"std\": 2.3702362751422057,\n        \"min\": 2.0,\n        \"max\": 8.12,\n        \"num_unique_values\": 5,\n        \"samples\": [\n          8.12\n        ],\n        \"semantic_type\": \"\",\n        \"description\": \"\"\n      }\n    },\n    {\n      \"column\": \"tolls_amount\",\n      \"properties\": {\n        \"dtype\": \"number\",\n        \"std\": 0.0,\n        \"min\": 0.0,\n        \"max\": 0.0,\n        \"num_unique_values\": 1,\n        \"samples\": [\n          0.0\n        ],\n        \"semantic_type\": \"\",\n        \"description\": \"\"\n      }\n    },\n    {\n      \"column\": \"improvement_surcharge\",\n      \"properties\": {\n        \"dtype\": \"number\",\n        \"std\": 0.0,\n        \"min\": 1.0,\n        \"max\": 1.0,\n        \"num_unique_values\": 1,\n        \"samples\": [\n          1.0\n        ],\n        \"semantic_type\": \"\",\n        \"description\": \"\"\n      }\n    },\n    {\n      \"column\": \"total_amount\",\n      \"properties\": {\n        \"dtype\": \"number\",\n        \"std\": 13.985335891568711,\n        \"min\": 14.0,\n        \"max\": 48.72,\n        \"num_unique_values\": 5,\n        \"samples\": [\n          48.72\n        ],\n        \"semantic_type\": \"\",\n        \"description\": \"\"\n      }\n    },\n    {\n      \"column\": \"congestion_surcharge\",\n      \"properties\": {\n        \"dtype\": \"number\",\n        \"std\": 0.0,\n        \"min\": 2.5,\n        \"max\": 2.5,\n        \"num_unique_values\": 1,\n        \"samples\": [\n          2.5\n        ],\n        \"semantic_type\": \"\",\n        \"description\": \"\"\n      }\n    },\n    {\n      \"column\": \"Airport_fee\",\n      \"properties\": {\n        \"dtype\": \"number\",\n        \"std\": 0.0,\n        \"min\": 0.0,\n        \"max\": 0.0,\n        \"num_unique_values\": 1,\n        \"samples\": [\n          0.0\n        ],\n        \"semantic_type\": \"\",\n        \"description\": \"\"\n      }\n    }\n  ]\n}"
            }
          },
          "metadata": {},
          "execution_count": 57
        }
      ]
    },
    {
      "cell_type": "markdown",
      "metadata": {
        "id": "358takCd2FiM"
      },
      "source": [
        "**2.1.1** <font color = red>[2 marks]</font> <br>\n",
        "\n",
        "Fix the index and drop unnecessary columns"
      ]
    },
    {
      "cell_type": "code",
      "execution_count": 25,
      "metadata": {
        "id": "KHHFyZxa2PEM"
      },
      "outputs": [],
      "source": [
        "# Fix the index and drop any columns that are not needed\n",
        "\n",
        "      ## Fixed index and time being i will not drop any columns"
      ]
    },
    {
      "cell_type": "markdown",
      "metadata": {
        "id": "TIFmxvIT2wsn"
      },
      "source": [
        "**2.1.2** <font color = red>[3 marks]</font> <br>\n",
        "There are two airport fee columns. This is possibly an error in naming columns. Let's see whether these can be combined into a single column."
      ]
    },
    {
      "cell_type": "code",
      "execution_count": 26,
      "metadata": {
        "id": "rmtgnb1x6TrV"
      },
      "outputs": [],
      "source": [
        "# Combine the two airport fee columns\n",
        "\n",
        "      ## In my file only one column appeared"
      ]
    },
    {
      "cell_type": "markdown",
      "metadata": {
        "id": "1g4AHG7mOYgP"
      },
      "source": [
        "**2.1.3** <font color = red>[5 marks]</font> <br>\n",
        "Fix columns with negative (monetary) values"
      ]
    },
    {
      "cell_type": "code",
      "execution_count": 61,
      "metadata": {
        "id": "nBsMT2MII1Hv",
        "colab": {
          "base_uri": "https://localhost:8080/",
          "height": 178
        },
        "outputId": "5d8e99aa-0483-4c0f-e4a8-29e6c2e05f42"
      },
      "outputs": [
        {
          "output_type": "execute_result",
          "data": {
            "text/plain": [
              "fare_amount\n",
              "False    283259\n",
              "True       2921\n",
              "Name: count, dtype: int64"
            ],
            "text/html": [
              "<div>\n",
              "<style scoped>\n",
              "    .dataframe tbody tr th:only-of-type {\n",
              "        vertical-align: middle;\n",
              "    }\n",
              "\n",
              "    .dataframe tbody tr th {\n",
              "        vertical-align: top;\n",
              "    }\n",
              "\n",
              "    .dataframe thead th {\n",
              "        text-align: right;\n",
              "    }\n",
              "</style>\n",
              "<table border=\"1\" class=\"dataframe\">\n",
              "  <thead>\n",
              "    <tr style=\"text-align: right;\">\n",
              "      <th></th>\n",
              "      <th>count</th>\n",
              "    </tr>\n",
              "    <tr>\n",
              "      <th>fare_amount</th>\n",
              "      <th></th>\n",
              "    </tr>\n",
              "  </thead>\n",
              "  <tbody>\n",
              "    <tr>\n",
              "      <th>False</th>\n",
              "      <td>283259</td>\n",
              "    </tr>\n",
              "    <tr>\n",
              "      <th>True</th>\n",
              "      <td>2921</td>\n",
              "    </tr>\n",
              "  </tbody>\n",
              "</table>\n",
              "</div><br><label><b>dtype:</b> int64</label>"
            ]
          },
          "metadata": {},
          "execution_count": 61
        }
      ],
      "source": [
        "# check where values of fare amount are negative\n",
        "\n",
        "(com_df['fare_amount']<0).value_counts()"
      ]
    },
    {
      "cell_type": "code",
      "source": [
        "com_df['fare_amount'] = com_df['fare_amount'].apply(lambda x: 0 if x < 0 else x)\n",
        "(com_df['fare_amount']<0).value_counts()\n"
      ],
      "metadata": {
        "colab": {
          "base_uri": "https://localhost:8080/",
          "height": 147
        },
        "id": "FVoYoh8S20w5",
        "outputId": "333a3e45-ec3e-46a9-97d4-fdb24ad2ba50"
      },
      "execution_count": 63,
      "outputs": [
        {
          "output_type": "execute_result",
          "data": {
            "text/plain": [
              "fare_amount\n",
              "False    286180\n",
              "Name: count, dtype: int64"
            ],
            "text/html": [
              "<div>\n",
              "<style scoped>\n",
              "    .dataframe tbody tr th:only-of-type {\n",
              "        vertical-align: middle;\n",
              "    }\n",
              "\n",
              "    .dataframe tbody tr th {\n",
              "        vertical-align: top;\n",
              "    }\n",
              "\n",
              "    .dataframe thead th {\n",
              "        text-align: right;\n",
              "    }\n",
              "</style>\n",
              "<table border=\"1\" class=\"dataframe\">\n",
              "  <thead>\n",
              "    <tr style=\"text-align: right;\">\n",
              "      <th></th>\n",
              "      <th>count</th>\n",
              "    </tr>\n",
              "    <tr>\n",
              "      <th>fare_amount</th>\n",
              "      <th></th>\n",
              "    </tr>\n",
              "  </thead>\n",
              "  <tbody>\n",
              "    <tr>\n",
              "      <th>False</th>\n",
              "      <td>286180</td>\n",
              "    </tr>\n",
              "  </tbody>\n",
              "</table>\n",
              "</div><br><label><b>dtype:</b> int64</label>"
            ]
          },
          "metadata": {},
          "execution_count": 63
        }
      ]
    },
    {
      "cell_type": "code",
      "source": [
        "com_df.fare_amount.min()"
      ],
      "metadata": {
        "colab": {
          "base_uri": "https://localhost:8080/"
        },
        "id": "zfvxGuPy2_7h",
        "outputId": "49a65535-0828-47c4-c06b-2bf98d1867e7"
      },
      "execution_count": 64,
      "outputs": [
        {
          "output_type": "execute_result",
          "data": {
            "text/plain": [
              "0.0"
            ]
          },
          "metadata": {},
          "execution_count": 64
        }
      ]
    },
    {
      "cell_type": "markdown",
      "metadata": {
        "id": "JNKpDtTh8awi"
      },
      "source": [
        "Did you notice something different in the `RatecodeID` column for above records?"
      ]
    },
    {
      "cell_type": "code",
      "execution_count": 67,
      "metadata": {
        "id": "9eVrrj7c3kjq",
        "colab": {
          "base_uri": "https://localhost:8080/"
        },
        "outputId": "aac6fd05-9fa5-4720-d26e-98ceeeebbb56"
      },
      "outputs": [
        {
          "output_type": "execute_result",
          "data": {
            "text/plain": [
              "1.0"
            ]
          },
          "metadata": {},
          "execution_count": 67
        }
      ],
      "source": [
        "# Analyse RatecodeID for the negative fare amounts\n",
        "com_df.RatecodeID.min()\n"
      ]
    },
    {
      "cell_type": "code",
      "source": [
        "com_df.RatecodeID.value_counts()"
      ],
      "metadata": {
        "colab": {
          "base_uri": "https://localhost:8080/",
          "height": 335
        },
        "id": "y0zMJGcD3Y0d",
        "outputId": "b9994626-8931-425c-a5c4-071e0b9440eb"
      },
      "execution_count": 65,
      "outputs": [
        {
          "output_type": "execute_result",
          "data": {
            "text/plain": [
              "RatecodeID\n",
              "1.0     260718\n",
              "2.0      10774\n",
              "5.0       1621\n",
              "99.0      1595\n",
              "3.0        943\n",
              "4.0        644\n",
              "6.0          1\n",
              "Name: count, dtype: int64"
            ],
            "text/html": [
              "<div>\n",
              "<style scoped>\n",
              "    .dataframe tbody tr th:only-of-type {\n",
              "        vertical-align: middle;\n",
              "    }\n",
              "\n",
              "    .dataframe tbody tr th {\n",
              "        vertical-align: top;\n",
              "    }\n",
              "\n",
              "    .dataframe thead th {\n",
              "        text-align: right;\n",
              "    }\n",
              "</style>\n",
              "<table border=\"1\" class=\"dataframe\">\n",
              "  <thead>\n",
              "    <tr style=\"text-align: right;\">\n",
              "      <th></th>\n",
              "      <th>count</th>\n",
              "    </tr>\n",
              "    <tr>\n",
              "      <th>RatecodeID</th>\n",
              "      <th></th>\n",
              "    </tr>\n",
              "  </thead>\n",
              "  <tbody>\n",
              "    <tr>\n",
              "      <th>1.0</th>\n",
              "      <td>260718</td>\n",
              "    </tr>\n",
              "    <tr>\n",
              "      <th>2.0</th>\n",
              "      <td>10774</td>\n",
              "    </tr>\n",
              "    <tr>\n",
              "      <th>5.0</th>\n",
              "      <td>1621</td>\n",
              "    </tr>\n",
              "    <tr>\n",
              "      <th>99.0</th>\n",
              "      <td>1595</td>\n",
              "    </tr>\n",
              "    <tr>\n",
              "      <th>3.0</th>\n",
              "      <td>943</td>\n",
              "    </tr>\n",
              "    <tr>\n",
              "      <th>4.0</th>\n",
              "      <td>644</td>\n",
              "    </tr>\n",
              "    <tr>\n",
              "      <th>6.0</th>\n",
              "      <td>1</td>\n",
              "    </tr>\n",
              "  </tbody>\n",
              "</table>\n",
              "</div><br><label><b>dtype:</b> int64</label>"
            ]
          },
          "metadata": {},
          "execution_count": 65
        }
      ]
    },
    {
      "cell_type": "code",
      "source": [
        "com_df.RatecodeID.dtype"
      ],
      "metadata": {
        "colab": {
          "base_uri": "https://localhost:8080/"
        },
        "id": "SlzU47ao3pfy",
        "outputId": "3a8a3532-f4a2-49bc-f921-d00dc9e9d0b9"
      },
      "execution_count": 66,
      "outputs": [
        {
          "output_type": "execute_result",
          "data": {
            "text/plain": [
              "dtype('float64')"
            ]
          },
          "metadata": {},
          "execution_count": 66
        }
      ]
    },
    {
      "cell_type": "code",
      "source": [],
      "metadata": {
        "id": "JvyEtHmx3pul"
      },
      "execution_count": null,
      "outputs": []
    },
    {
      "cell_type": "code",
      "execution_count": 69,
      "metadata": {
        "id": "Ruyh2vaCRNxr",
        "colab": {
          "base_uri": "https://localhost:8080/"
        },
        "outputId": "9e2840c0-4f56-4f51-f870-935fc46a5f6d"
      },
      "outputs": [
        {
          "output_type": "execute_result",
          "data": {
            "text/plain": [
              "1"
            ]
          },
          "metadata": {},
          "execution_count": 69
        }
      ],
      "source": [
        "# Find which columns have negative values\n",
        "com_df.PULocationID.min()\n",
        "com_df.DOLocationID.min()\n",
        "\n"
      ]
    },
    {
      "cell_type": "code",
      "execution_count": 30,
      "metadata": {
        "id": "mPehZ6PJg3_J"
      },
      "outputs": [],
      "source": [
        "# fix these negative values\n",
        "\n"
      ]
    },
    {
      "cell_type": "markdown",
      "metadata": {
        "id": "x2hakCCy6wXI"
      },
      "source": [
        "### **2.2** Handling Missing Values\n",
        "<font color = red>[10 marks]</font> <br>"
      ]
    },
    {
      "cell_type": "markdown",
      "metadata": {
        "id": "-K-QNPDVVhzR"
      },
      "source": [
        "**2.2.1**  <font color = red>[2 marks]</font> <br>\n",
        "Find the proportion of missing values in each column\n",
        "\n",
        "\n"
      ]
    },
    {
      "cell_type": "code",
      "source": [
        "missing_proportion = com_df.isnull().mean()\n",
        "print(\"Proportion of missing values in each column:\\n\", missing_proportion)"
      ],
      "metadata": {
        "colab": {
          "base_uri": "https://localhost:8080/"
        },
        "id": "9D16mtpj5iH_",
        "outputId": "fdd4f66e-88b7-4c06-aafd-f9c722e9fb35"
      },
      "execution_count": 71,
      "outputs": [
        {
          "output_type": "stream",
          "name": "stdout",
          "text": [
            "Proportion of missing values in each column:\n",
            " VendorID                 0.000000\n",
            "tpep_pickup_datetime     0.000000\n",
            "tpep_dropoff_datetime    0.000000\n",
            "passenger_count          0.034538\n",
            "trip_distance            0.000000\n",
            "RatecodeID               0.034538\n",
            "store_and_fwd_flag       0.034538\n",
            "PULocationID             0.000000\n",
            "DOLocationID             0.000000\n",
            "payment_type             0.000000\n",
            "fare_amount              0.000000\n",
            "extra                    0.000000\n",
            "mta_tax                  0.000000\n",
            "tip_amount               0.000000\n",
            "tolls_amount             0.000000\n",
            "improvement_surcharge    0.000000\n",
            "total_amount             0.000000\n",
            "congestion_surcharge     0.034538\n",
            "Airport_fee              0.034538\n",
            "dtype: float64\n"
          ]
        }
      ]
    },
    {
      "cell_type": "code",
      "execution_count": 31,
      "metadata": {
        "id": "tfTa9cct6Gec"
      },
      "outputs": [],
      "source": [
        "# Find the proportion of missing values in each column\n",
        "\n"
      ]
    },
    {
      "cell_type": "markdown",
      "metadata": {
        "id": "-UdUl6AL_-E_"
      },
      "source": [
        "**2.2.2**  <font color = red>[3 marks]</font> <br>\n",
        "Handling missing values in `passenger_count`"
      ]
    },
    {
      "cell_type": "code",
      "execution_count": 72,
      "metadata": {
        "id": "JmNmhr4q8Xys",
        "colab": {
          "base_uri": "https://localhost:8080/",
          "height": 444
        },
        "outputId": "14c92775-d44c-468d-c9d3-e29a37d4659d"
      },
      "outputs": [
        {
          "output_type": "execute_result",
          "data": {
            "text/plain": [
              "        VendorID tpep_pickup_datetime tpep_dropoff_datetime  passenger_count  \\\n",
              "17             2  2023-02-25 14:13:23   2023-02-25 14:37:04              NaN   \n",
              "26             2  2023-02-06 19:45:00   2023-02-06 19:58:00              NaN   \n",
              "124            2  2023-02-20 19:58:28   2023-02-20 20:08:17              NaN   \n",
              "192            2  2023-02-25 04:06:57   2023-02-25 04:35:10              NaN   \n",
              "238            2  2023-02-01 08:50:00   2023-02-01 09:12:00              NaN   \n",
              "...          ...                  ...                   ...              ...   \n",
              "286101         2  2023-12-14 18:41:03   2023-12-14 18:54:52              NaN   \n",
              "286128         2  2023-12-23 04:12:04   2023-12-23 04:19:38              NaN   \n",
              "286142         2  2023-12-20 13:37:52   2023-12-20 13:49:49              NaN   \n",
              "286145         2  2023-12-08 10:11:55   2023-12-08 10:28:18              NaN   \n",
              "286146         2  2023-12-18 13:12:31   2023-12-18 13:16:44              NaN   \n",
              "\n",
              "        trip_distance  RatecodeID store_and_fwd_flag  PULocationID  \\\n",
              "17               2.87         NaN               None           255   \n",
              "26               5.20         NaN               None           140   \n",
              "124              1.88         NaN               None           125   \n",
              "192              8.12         NaN               None           158   \n",
              "238              3.88         NaN               None           164   \n",
              "...               ...         ...                ...           ...   \n",
              "286101           1.48         NaN               None            68   \n",
              "286128           1.83         NaN               None           186   \n",
              "286142           1.04         NaN               None           237   \n",
              "286145           1.15         NaN               None           143   \n",
              "286146           0.76         NaN               None           107   \n",
              "\n",
              "        DOLocationID  payment_type  fare_amount  extra  mta_tax  tip_amount  \\\n",
              "17                79             0        16.79    0.0      0.5        4.16   \n",
              "26                79             0        14.76    0.0      0.5        3.75   \n",
              "124              107             0        13.23    0.0      0.5        3.45   \n",
              "192               85             0        33.23    0.0      0.5        7.45   \n",
              "238              239             0        20.52    0.0      0.5        4.90   \n",
              "...              ...           ...          ...    ...      ...         ...   \n",
              "286101           100             0         7.90    0.0      0.5        3.00   \n",
              "286128            48             0         8.18    0.0      0.5        0.00   \n",
              "286142           237             0        11.58    0.0      0.5        1.56   \n",
              "286145           230             0        10.88    0.0      0.5        0.00   \n",
              "286146           224             0        26.83    0.0      0.5        0.00   \n",
              "\n",
              "        tolls_amount  improvement_surcharge  total_amount  \\\n",
              "17               0.0                    1.0         24.95   \n",
              "26               0.0                    1.0         22.51   \n",
              "124              0.0                    1.0         20.68   \n",
              "192              0.0                    1.0         44.68   \n",
              "238              0.0                    1.0         29.42   \n",
              "...              ...                    ...           ...   \n",
              "286101           0.0                    1.0         14.90   \n",
              "286128           0.0                    1.0         12.18   \n",
              "286142           0.0                    1.0         17.14   \n",
              "286145           0.0                    1.0         14.88   \n",
              "286146           0.0                    1.0         30.83   \n",
              "\n",
              "        congestion_surcharge  Airport_fee  \n",
              "17                       NaN          NaN  \n",
              "26                       NaN          NaN  \n",
              "124                      NaN          NaN  \n",
              "192                      NaN          NaN  \n",
              "238                      NaN          NaN  \n",
              "...                      ...          ...  \n",
              "286101                   NaN          NaN  \n",
              "286128                   NaN          NaN  \n",
              "286142                   NaN          NaN  \n",
              "286145                   NaN          NaN  \n",
              "286146                   NaN          NaN  \n",
              "\n",
              "[9884 rows x 19 columns]"
            ],
            "text/html": [
              "\n",
              "  <div id=\"df-ffdba7ef-f56c-4ddf-ab16-d48b22ce512a\" class=\"colab-df-container\">\n",
              "    <div>\n",
              "<style scoped>\n",
              "    .dataframe tbody tr th:only-of-type {\n",
              "        vertical-align: middle;\n",
              "    }\n",
              "\n",
              "    .dataframe tbody tr th {\n",
              "        vertical-align: top;\n",
              "    }\n",
              "\n",
              "    .dataframe thead th {\n",
              "        text-align: right;\n",
              "    }\n",
              "</style>\n",
              "<table border=\"1\" class=\"dataframe\">\n",
              "  <thead>\n",
              "    <tr style=\"text-align: right;\">\n",
              "      <th></th>\n",
              "      <th>VendorID</th>\n",
              "      <th>tpep_pickup_datetime</th>\n",
              "      <th>tpep_dropoff_datetime</th>\n",
              "      <th>passenger_count</th>\n",
              "      <th>trip_distance</th>\n",
              "      <th>RatecodeID</th>\n",
              "      <th>store_and_fwd_flag</th>\n",
              "      <th>PULocationID</th>\n",
              "      <th>DOLocationID</th>\n",
              "      <th>payment_type</th>\n",
              "      <th>fare_amount</th>\n",
              "      <th>extra</th>\n",
              "      <th>mta_tax</th>\n",
              "      <th>tip_amount</th>\n",
              "      <th>tolls_amount</th>\n",
              "      <th>improvement_surcharge</th>\n",
              "      <th>total_amount</th>\n",
              "      <th>congestion_surcharge</th>\n",
              "      <th>Airport_fee</th>\n",
              "    </tr>\n",
              "  </thead>\n",
              "  <tbody>\n",
              "    <tr>\n",
              "      <th>17</th>\n",
              "      <td>2</td>\n",
              "      <td>2023-02-25 14:13:23</td>\n",
              "      <td>2023-02-25 14:37:04</td>\n",
              "      <td>NaN</td>\n",
              "      <td>2.87</td>\n",
              "      <td>NaN</td>\n",
              "      <td>None</td>\n",
              "      <td>255</td>\n",
              "      <td>79</td>\n",
              "      <td>0</td>\n",
              "      <td>16.79</td>\n",
              "      <td>0.0</td>\n",
              "      <td>0.5</td>\n",
              "      <td>4.16</td>\n",
              "      <td>0.0</td>\n",
              "      <td>1.0</td>\n",
              "      <td>24.95</td>\n",
              "      <td>NaN</td>\n",
              "      <td>NaN</td>\n",
              "    </tr>\n",
              "    <tr>\n",
              "      <th>26</th>\n",
              "      <td>2</td>\n",
              "      <td>2023-02-06 19:45:00</td>\n",
              "      <td>2023-02-06 19:58:00</td>\n",
              "      <td>NaN</td>\n",
              "      <td>5.20</td>\n",
              "      <td>NaN</td>\n",
              "      <td>None</td>\n",
              "      <td>140</td>\n",
              "      <td>79</td>\n",
              "      <td>0</td>\n",
              "      <td>14.76</td>\n",
              "      <td>0.0</td>\n",
              "      <td>0.5</td>\n",
              "      <td>3.75</td>\n",
              "      <td>0.0</td>\n",
              "      <td>1.0</td>\n",
              "      <td>22.51</td>\n",
              "      <td>NaN</td>\n",
              "      <td>NaN</td>\n",
              "    </tr>\n",
              "    <tr>\n",
              "      <th>124</th>\n",
              "      <td>2</td>\n",
              "      <td>2023-02-20 19:58:28</td>\n",
              "      <td>2023-02-20 20:08:17</td>\n",
              "      <td>NaN</td>\n",
              "      <td>1.88</td>\n",
              "      <td>NaN</td>\n",
              "      <td>None</td>\n",
              "      <td>125</td>\n",
              "      <td>107</td>\n",
              "      <td>0</td>\n",
              "      <td>13.23</td>\n",
              "      <td>0.0</td>\n",
              "      <td>0.5</td>\n",
              "      <td>3.45</td>\n",
              "      <td>0.0</td>\n",
              "      <td>1.0</td>\n",
              "      <td>20.68</td>\n",
              "      <td>NaN</td>\n",
              "      <td>NaN</td>\n",
              "    </tr>\n",
              "    <tr>\n",
              "      <th>192</th>\n",
              "      <td>2</td>\n",
              "      <td>2023-02-25 04:06:57</td>\n",
              "      <td>2023-02-25 04:35:10</td>\n",
              "      <td>NaN</td>\n",
              "      <td>8.12</td>\n",
              "      <td>NaN</td>\n",
              "      <td>None</td>\n",
              "      <td>158</td>\n",
              "      <td>85</td>\n",
              "      <td>0</td>\n",
              "      <td>33.23</td>\n",
              "      <td>0.0</td>\n",
              "      <td>0.5</td>\n",
              "      <td>7.45</td>\n",
              "      <td>0.0</td>\n",
              "      <td>1.0</td>\n",
              "      <td>44.68</td>\n",
              "      <td>NaN</td>\n",
              "      <td>NaN</td>\n",
              "    </tr>\n",
              "    <tr>\n",
              "      <th>238</th>\n",
              "      <td>2</td>\n",
              "      <td>2023-02-01 08:50:00</td>\n",
              "      <td>2023-02-01 09:12:00</td>\n",
              "      <td>NaN</td>\n",
              "      <td>3.88</td>\n",
              "      <td>NaN</td>\n",
              "      <td>None</td>\n",
              "      <td>164</td>\n",
              "      <td>239</td>\n",
              "      <td>0</td>\n",
              "      <td>20.52</td>\n",
              "      <td>0.0</td>\n",
              "      <td>0.5</td>\n",
              "      <td>4.90</td>\n",
              "      <td>0.0</td>\n",
              "      <td>1.0</td>\n",
              "      <td>29.42</td>\n",
              "      <td>NaN</td>\n",
              "      <td>NaN</td>\n",
              "    </tr>\n",
              "    <tr>\n",
              "      <th>...</th>\n",
              "      <td>...</td>\n",
              "      <td>...</td>\n",
              "      <td>...</td>\n",
              "      <td>...</td>\n",
              "      <td>...</td>\n",
              "      <td>...</td>\n",
              "      <td>...</td>\n",
              "      <td>...</td>\n",
              "      <td>...</td>\n",
              "      <td>...</td>\n",
              "      <td>...</td>\n",
              "      <td>...</td>\n",
              "      <td>...</td>\n",
              "      <td>...</td>\n",
              "      <td>...</td>\n",
              "      <td>...</td>\n",
              "      <td>...</td>\n",
              "      <td>...</td>\n",
              "      <td>...</td>\n",
              "    </tr>\n",
              "    <tr>\n",
              "      <th>286101</th>\n",
              "      <td>2</td>\n",
              "      <td>2023-12-14 18:41:03</td>\n",
              "      <td>2023-12-14 18:54:52</td>\n",
              "      <td>NaN</td>\n",
              "      <td>1.48</td>\n",
              "      <td>NaN</td>\n",
              "      <td>None</td>\n",
              "      <td>68</td>\n",
              "      <td>100</td>\n",
              "      <td>0</td>\n",
              "      <td>7.90</td>\n",
              "      <td>0.0</td>\n",
              "      <td>0.5</td>\n",
              "      <td>3.00</td>\n",
              "      <td>0.0</td>\n",
              "      <td>1.0</td>\n",
              "      <td>14.90</td>\n",
              "      <td>NaN</td>\n",
              "      <td>NaN</td>\n",
              "    </tr>\n",
              "    <tr>\n",
              "      <th>286128</th>\n",
              "      <td>2</td>\n",
              "      <td>2023-12-23 04:12:04</td>\n",
              "      <td>2023-12-23 04:19:38</td>\n",
              "      <td>NaN</td>\n",
              "      <td>1.83</td>\n",
              "      <td>NaN</td>\n",
              "      <td>None</td>\n",
              "      <td>186</td>\n",
              "      <td>48</td>\n",
              "      <td>0</td>\n",
              "      <td>8.18</td>\n",
              "      <td>0.0</td>\n",
              "      <td>0.5</td>\n",
              "      <td>0.00</td>\n",
              "      <td>0.0</td>\n",
              "      <td>1.0</td>\n",
              "      <td>12.18</td>\n",
              "      <td>NaN</td>\n",
              "      <td>NaN</td>\n",
              "    </tr>\n",
              "    <tr>\n",
              "      <th>286142</th>\n",
              "      <td>2</td>\n",
              "      <td>2023-12-20 13:37:52</td>\n",
              "      <td>2023-12-20 13:49:49</td>\n",
              "      <td>NaN</td>\n",
              "      <td>1.04</td>\n",
              "      <td>NaN</td>\n",
              "      <td>None</td>\n",
              "      <td>237</td>\n",
              "      <td>237</td>\n",
              "      <td>0</td>\n",
              "      <td>11.58</td>\n",
              "      <td>0.0</td>\n",
              "      <td>0.5</td>\n",
              "      <td>1.56</td>\n",
              "      <td>0.0</td>\n",
              "      <td>1.0</td>\n",
              "      <td>17.14</td>\n",
              "      <td>NaN</td>\n",
              "      <td>NaN</td>\n",
              "    </tr>\n",
              "    <tr>\n",
              "      <th>286145</th>\n",
              "      <td>2</td>\n",
              "      <td>2023-12-08 10:11:55</td>\n",
              "      <td>2023-12-08 10:28:18</td>\n",
              "      <td>NaN</td>\n",
              "      <td>1.15</td>\n",
              "      <td>NaN</td>\n",
              "      <td>None</td>\n",
              "      <td>143</td>\n",
              "      <td>230</td>\n",
              "      <td>0</td>\n",
              "      <td>10.88</td>\n",
              "      <td>0.0</td>\n",
              "      <td>0.5</td>\n",
              "      <td>0.00</td>\n",
              "      <td>0.0</td>\n",
              "      <td>1.0</td>\n",
              "      <td>14.88</td>\n",
              "      <td>NaN</td>\n",
              "      <td>NaN</td>\n",
              "    </tr>\n",
              "    <tr>\n",
              "      <th>286146</th>\n",
              "      <td>2</td>\n",
              "      <td>2023-12-18 13:12:31</td>\n",
              "      <td>2023-12-18 13:16:44</td>\n",
              "      <td>NaN</td>\n",
              "      <td>0.76</td>\n",
              "      <td>NaN</td>\n",
              "      <td>None</td>\n",
              "      <td>107</td>\n",
              "      <td>224</td>\n",
              "      <td>0</td>\n",
              "      <td>26.83</td>\n",
              "      <td>0.0</td>\n",
              "      <td>0.5</td>\n",
              "      <td>0.00</td>\n",
              "      <td>0.0</td>\n",
              "      <td>1.0</td>\n",
              "      <td>30.83</td>\n",
              "      <td>NaN</td>\n",
              "      <td>NaN</td>\n",
              "    </tr>\n",
              "  </tbody>\n",
              "</table>\n",
              "<p>9884 rows × 19 columns</p>\n",
              "</div>\n",
              "    <div class=\"colab-df-buttons\">\n",
              "\n",
              "  <div class=\"colab-df-container\">\n",
              "    <button class=\"colab-df-convert\" onclick=\"convertToInteractive('df-ffdba7ef-f56c-4ddf-ab16-d48b22ce512a')\"\n",
              "            title=\"Convert this dataframe to an interactive table.\"\n",
              "            style=\"display:none;\">\n",
              "\n",
              "  <svg xmlns=\"http://www.w3.org/2000/svg\" height=\"24px\" viewBox=\"0 -960 960 960\">\n",
              "    <path d=\"M120-120v-720h720v720H120Zm60-500h600v-160H180v160Zm220 220h160v-160H400v160Zm0 220h160v-160H400v160ZM180-400h160v-160H180v160Zm440 0h160v-160H620v160ZM180-180h160v-160H180v160Zm440 0h160v-160H620v160Z\"/>\n",
              "  </svg>\n",
              "    </button>\n",
              "\n",
              "  <style>\n",
              "    .colab-df-container {\n",
              "      display:flex;\n",
              "      gap: 12px;\n",
              "    }\n",
              "\n",
              "    .colab-df-convert {\n",
              "      background-color: #E8F0FE;\n",
              "      border: none;\n",
              "      border-radius: 50%;\n",
              "      cursor: pointer;\n",
              "      display: none;\n",
              "      fill: #1967D2;\n",
              "      height: 32px;\n",
              "      padding: 0 0 0 0;\n",
              "      width: 32px;\n",
              "    }\n",
              "\n",
              "    .colab-df-convert:hover {\n",
              "      background-color: #E2EBFA;\n",
              "      box-shadow: 0px 1px 2px rgba(60, 64, 67, 0.3), 0px 1px 3px 1px rgba(60, 64, 67, 0.15);\n",
              "      fill: #174EA6;\n",
              "    }\n",
              "\n",
              "    .colab-df-buttons div {\n",
              "      margin-bottom: 4px;\n",
              "    }\n",
              "\n",
              "    [theme=dark] .colab-df-convert {\n",
              "      background-color: #3B4455;\n",
              "      fill: #D2E3FC;\n",
              "    }\n",
              "\n",
              "    [theme=dark] .colab-df-convert:hover {\n",
              "      background-color: #434B5C;\n",
              "      box-shadow: 0px 1px 3px 1px rgba(0, 0, 0, 0.15);\n",
              "      filter: drop-shadow(0px 1px 2px rgba(0, 0, 0, 0.3));\n",
              "      fill: #FFFFFF;\n",
              "    }\n",
              "  </style>\n",
              "\n",
              "    <script>\n",
              "      const buttonEl =\n",
              "        document.querySelector('#df-ffdba7ef-f56c-4ddf-ab16-d48b22ce512a button.colab-df-convert');\n",
              "      buttonEl.style.display =\n",
              "        google.colab.kernel.accessAllowed ? 'block' : 'none';\n",
              "\n",
              "      async function convertToInteractive(key) {\n",
              "        const element = document.querySelector('#df-ffdba7ef-f56c-4ddf-ab16-d48b22ce512a');\n",
              "        const dataTable =\n",
              "          await google.colab.kernel.invokeFunction('convertToInteractive',\n",
              "                                                    [key], {});\n",
              "        if (!dataTable) return;\n",
              "\n",
              "        const docLinkHtml = 'Like what you see? Visit the ' +\n",
              "          '<a target=\"_blank\" href=https://colab.research.google.com/notebooks/data_table.ipynb>data table notebook</a>'\n",
              "          + ' to learn more about interactive tables.';\n",
              "        element.innerHTML = '';\n",
              "        dataTable['output_type'] = 'display_data';\n",
              "        await google.colab.output.renderOutput(dataTable, element);\n",
              "        const docLink = document.createElement('div');\n",
              "        docLink.innerHTML = docLinkHtml;\n",
              "        element.appendChild(docLink);\n",
              "      }\n",
              "    </script>\n",
              "  </div>\n",
              "\n",
              "\n",
              "<div id=\"df-19a83030-b523-454c-a99e-9d5f76a248d5\">\n",
              "  <button class=\"colab-df-quickchart\" onclick=\"quickchart('df-19a83030-b523-454c-a99e-9d5f76a248d5')\"\n",
              "            title=\"Suggest charts\"\n",
              "            style=\"display:none;\">\n",
              "\n",
              "<svg xmlns=\"http://www.w3.org/2000/svg\" height=\"24px\"viewBox=\"0 0 24 24\"\n",
              "     width=\"24px\">\n",
              "    <g>\n",
              "        <path d=\"M19 3H5c-1.1 0-2 .9-2 2v14c0 1.1.9 2 2 2h14c1.1 0 2-.9 2-2V5c0-1.1-.9-2-2-2zM9 17H7v-7h2v7zm4 0h-2V7h2v10zm4 0h-2v-4h2v4z\"/>\n",
              "    </g>\n",
              "</svg>\n",
              "  </button>\n",
              "\n",
              "<style>\n",
              "  .colab-df-quickchart {\n",
              "      --bg-color: #E8F0FE;\n",
              "      --fill-color: #1967D2;\n",
              "      --hover-bg-color: #E2EBFA;\n",
              "      --hover-fill-color: #174EA6;\n",
              "      --disabled-fill-color: #AAA;\n",
              "      --disabled-bg-color: #DDD;\n",
              "  }\n",
              "\n",
              "  [theme=dark] .colab-df-quickchart {\n",
              "      --bg-color: #3B4455;\n",
              "      --fill-color: #D2E3FC;\n",
              "      --hover-bg-color: #434B5C;\n",
              "      --hover-fill-color: #FFFFFF;\n",
              "      --disabled-bg-color: #3B4455;\n",
              "      --disabled-fill-color: #666;\n",
              "  }\n",
              "\n",
              "  .colab-df-quickchart {\n",
              "    background-color: var(--bg-color);\n",
              "    border: none;\n",
              "    border-radius: 50%;\n",
              "    cursor: pointer;\n",
              "    display: none;\n",
              "    fill: var(--fill-color);\n",
              "    height: 32px;\n",
              "    padding: 0;\n",
              "    width: 32px;\n",
              "  }\n",
              "\n",
              "  .colab-df-quickchart:hover {\n",
              "    background-color: var(--hover-bg-color);\n",
              "    box-shadow: 0 1px 2px rgba(60, 64, 67, 0.3), 0 1px 3px 1px rgba(60, 64, 67, 0.15);\n",
              "    fill: var(--button-hover-fill-color);\n",
              "  }\n",
              "\n",
              "  .colab-df-quickchart-complete:disabled,\n",
              "  .colab-df-quickchart-complete:disabled:hover {\n",
              "    background-color: var(--disabled-bg-color);\n",
              "    fill: var(--disabled-fill-color);\n",
              "    box-shadow: none;\n",
              "  }\n",
              "\n",
              "  .colab-df-spinner {\n",
              "    border: 2px solid var(--fill-color);\n",
              "    border-color: transparent;\n",
              "    border-bottom-color: var(--fill-color);\n",
              "    animation:\n",
              "      spin 1s steps(1) infinite;\n",
              "  }\n",
              "\n",
              "  @keyframes spin {\n",
              "    0% {\n",
              "      border-color: transparent;\n",
              "      border-bottom-color: var(--fill-color);\n",
              "      border-left-color: var(--fill-color);\n",
              "    }\n",
              "    20% {\n",
              "      border-color: transparent;\n",
              "      border-left-color: var(--fill-color);\n",
              "      border-top-color: var(--fill-color);\n",
              "    }\n",
              "    30% {\n",
              "      border-color: transparent;\n",
              "      border-left-color: var(--fill-color);\n",
              "      border-top-color: var(--fill-color);\n",
              "      border-right-color: var(--fill-color);\n",
              "    }\n",
              "    40% {\n",
              "      border-color: transparent;\n",
              "      border-right-color: var(--fill-color);\n",
              "      border-top-color: var(--fill-color);\n",
              "    }\n",
              "    60% {\n",
              "      border-color: transparent;\n",
              "      border-right-color: var(--fill-color);\n",
              "    }\n",
              "    80% {\n",
              "      border-color: transparent;\n",
              "      border-right-color: var(--fill-color);\n",
              "      border-bottom-color: var(--fill-color);\n",
              "    }\n",
              "    90% {\n",
              "      border-color: transparent;\n",
              "      border-bottom-color: var(--fill-color);\n",
              "    }\n",
              "  }\n",
              "</style>\n",
              "\n",
              "  <script>\n",
              "    async function quickchart(key) {\n",
              "      const quickchartButtonEl =\n",
              "        document.querySelector('#' + key + ' button');\n",
              "      quickchartButtonEl.disabled = true;  // To prevent multiple clicks.\n",
              "      quickchartButtonEl.classList.add('colab-df-spinner');\n",
              "      try {\n",
              "        const charts = await google.colab.kernel.invokeFunction(\n",
              "            'suggestCharts', [key], {});\n",
              "      } catch (error) {\n",
              "        console.error('Error during call to suggestCharts:', error);\n",
              "      }\n",
              "      quickchartButtonEl.classList.remove('colab-df-spinner');\n",
              "      quickchartButtonEl.classList.add('colab-df-quickchart-complete');\n",
              "    }\n",
              "    (() => {\n",
              "      let quickchartButtonEl =\n",
              "        document.querySelector('#df-19a83030-b523-454c-a99e-9d5f76a248d5 button');\n",
              "      quickchartButtonEl.style.display =\n",
              "        google.colab.kernel.accessAllowed ? 'block' : 'none';\n",
              "    })();\n",
              "  </script>\n",
              "</div>\n",
              "\n",
              "    </div>\n",
              "  </div>\n"
            ],
            "application/vnd.google.colaboratory.intrinsic+json": {
              "type": "dataframe",
              "repr_error": "0"
            }
          },
          "metadata": {},
          "execution_count": 72
        }
      ],
      "source": [
        "# Display the rows with null values\n",
        "# Impute NaN values in 'passenger_count'\n",
        "com_df[com_df['passenger_count'].isnull()]"
      ]
    },
    {
      "cell_type": "code",
      "source": [],
      "metadata": {
        "id": "r7MqpzGf6U4n"
      },
      "execution_count": null,
      "outputs": []
    },
    {
      "cell_type": "markdown",
      "metadata": {
        "id": "hIPCyR6UCw0c"
      },
      "source": [
        "Did you find zeroes in passenger_count? Handle these."
      ]
    },
    {
      "cell_type": "code",
      "source": [
        "com_df.passenger_count.value_counts()"
      ],
      "metadata": {
        "colab": {
          "base_uri": "https://localhost:8080/",
          "height": 366
        },
        "id": "NsU7kd4y6-Py",
        "outputId": "2a75adc2-42c8-4190-ed19-e5fad83b7fa1"
      },
      "execution_count": 73,
      "outputs": [
        {
          "output_type": "execute_result",
          "data": {
            "text/plain": [
              "passenger_count\n",
              "1.0    207950\n",
              "2.0     41443\n",
              "3.0     10564\n",
              "4.0      5962\n",
              "0.0      4328\n",
              "5.0      3668\n",
              "6.0      2378\n",
              "8.0         3\n",
              "Name: count, dtype: int64"
            ],
            "text/html": [
              "<div>\n",
              "<style scoped>\n",
              "    .dataframe tbody tr th:only-of-type {\n",
              "        vertical-align: middle;\n",
              "    }\n",
              "\n",
              "    .dataframe tbody tr th {\n",
              "        vertical-align: top;\n",
              "    }\n",
              "\n",
              "    .dataframe thead th {\n",
              "        text-align: right;\n",
              "    }\n",
              "</style>\n",
              "<table border=\"1\" class=\"dataframe\">\n",
              "  <thead>\n",
              "    <tr style=\"text-align: right;\">\n",
              "      <th></th>\n",
              "      <th>count</th>\n",
              "    </tr>\n",
              "    <tr>\n",
              "      <th>passenger_count</th>\n",
              "      <th></th>\n",
              "    </tr>\n",
              "  </thead>\n",
              "  <tbody>\n",
              "    <tr>\n",
              "      <th>1.0</th>\n",
              "      <td>207950</td>\n",
              "    </tr>\n",
              "    <tr>\n",
              "      <th>2.0</th>\n",
              "      <td>41443</td>\n",
              "    </tr>\n",
              "    <tr>\n",
              "      <th>3.0</th>\n",
              "      <td>10564</td>\n",
              "    </tr>\n",
              "    <tr>\n",
              "      <th>4.0</th>\n",
              "      <td>5962</td>\n",
              "    </tr>\n",
              "    <tr>\n",
              "      <th>0.0</th>\n",
              "      <td>4328</td>\n",
              "    </tr>\n",
              "    <tr>\n",
              "      <th>5.0</th>\n",
              "      <td>3668</td>\n",
              "    </tr>\n",
              "    <tr>\n",
              "      <th>6.0</th>\n",
              "      <td>2378</td>\n",
              "    </tr>\n",
              "    <tr>\n",
              "      <th>8.0</th>\n",
              "      <td>3</td>\n",
              "    </tr>\n",
              "  </tbody>\n",
              "</table>\n",
              "</div><br><label><b>dtype:</b> int64</label>"
            ]
          },
          "metadata": {},
          "execution_count": 73
        }
      ]
    },
    {
      "cell_type": "code",
      "source": [
        "com_df['passenger_count'] = com_df['passenger_count'].apply(lambda x: 1 if x == 0 else x)\n",
        "com_df.passenger_count.value_counts()"
      ],
      "metadata": {
        "colab": {
          "base_uri": "https://localhost:8080/",
          "height": 335
        },
        "id": "Zm3sOs0_7FH7",
        "outputId": "2c0465dd-5bde-40cb-9701-9052722f8f08"
      },
      "execution_count": 77,
      "outputs": [
        {
          "output_type": "execute_result",
          "data": {
            "text/plain": [
              "passenger_count\n",
              "1.0    212278\n",
              "2.0     41443\n",
              "3.0     10564\n",
              "4.0      5962\n",
              "5.0      3668\n",
              "6.0      2378\n",
              "8.0         3\n",
              "Name: count, dtype: int64"
            ],
            "text/html": [
              "<div>\n",
              "<style scoped>\n",
              "    .dataframe tbody tr th:only-of-type {\n",
              "        vertical-align: middle;\n",
              "    }\n",
              "\n",
              "    .dataframe tbody tr th {\n",
              "        vertical-align: top;\n",
              "    }\n",
              "\n",
              "    .dataframe thead th {\n",
              "        text-align: right;\n",
              "    }\n",
              "</style>\n",
              "<table border=\"1\" class=\"dataframe\">\n",
              "  <thead>\n",
              "    <tr style=\"text-align: right;\">\n",
              "      <th></th>\n",
              "      <th>count</th>\n",
              "    </tr>\n",
              "    <tr>\n",
              "      <th>passenger_count</th>\n",
              "      <th></th>\n",
              "    </tr>\n",
              "  </thead>\n",
              "  <tbody>\n",
              "    <tr>\n",
              "      <th>1.0</th>\n",
              "      <td>212278</td>\n",
              "    </tr>\n",
              "    <tr>\n",
              "      <th>2.0</th>\n",
              "      <td>41443</td>\n",
              "    </tr>\n",
              "    <tr>\n",
              "      <th>3.0</th>\n",
              "      <td>10564</td>\n",
              "    </tr>\n",
              "    <tr>\n",
              "      <th>4.0</th>\n",
              "      <td>5962</td>\n",
              "    </tr>\n",
              "    <tr>\n",
              "      <th>5.0</th>\n",
              "      <td>3668</td>\n",
              "    </tr>\n",
              "    <tr>\n",
              "      <th>6.0</th>\n",
              "      <td>2378</td>\n",
              "    </tr>\n",
              "    <tr>\n",
              "      <th>8.0</th>\n",
              "      <td>3</td>\n",
              "    </tr>\n",
              "  </tbody>\n",
              "</table>\n",
              "</div><br><label><b>dtype:</b> int64</label>"
            ]
          },
          "metadata": {},
          "execution_count": 77
        }
      ]
    },
    {
      "cell_type": "markdown",
      "metadata": {
        "id": "IUr4fwkjBUTQ"
      },
      "source": [
        "**2.2.3**  <font color = red>[2 marks]</font> <br>\n",
        "Handle missing values in `RatecodeID`"
      ]
    },
    {
      "cell_type": "code",
      "execution_count": 33,
      "metadata": {
        "id": "qEgFxytzBkrB"
      },
      "outputs": [],
      "source": [
        "# Fix missing values in 'RatecodeID'\n"
      ]
    },
    {
      "cell_type": "markdown",
      "metadata": {
        "id": "0TjHXzuODCUW"
      },
      "source": [
        "**2.2.4**  <font color = red>[3 marks]</font> <br>\n",
        "Impute NaN in `congestion_surcharge`"
      ]
    },
    {
      "cell_type": "code",
      "execution_count": 34,
      "metadata": {
        "id": "HqnabUGC3xOA"
      },
      "outputs": [],
      "source": [
        "# handle null values in congestion_surcharge\n"
      ]
    },
    {
      "cell_type": "code",
      "source": [
        "com_df['congestion_surcharge'] = com_df['congestion_surcharge'].apply(lambda x: 2.5 if x == -2.5 else x)\n",
        "com_df.congestion_surcharge.value_counts()\n"
      ],
      "metadata": {
        "colab": {
          "base_uri": "https://localhost:8080/",
          "height": 178
        },
        "id": "O5Ljm8hbE8ws",
        "outputId": "24c0151a-e7ff-4ce1-9779-a85d1bf8b846"
      },
      "execution_count": 85,
      "outputs": [
        {
          "output_type": "execute_result",
          "data": {
            "text/plain": [
              "congestion_surcharge\n",
              "2.50    276295\n",
              "0.75         1\n",
              "Name: count, dtype: int64"
            ],
            "text/html": [
              "<div>\n",
              "<style scoped>\n",
              "    .dataframe tbody tr th:only-of-type {\n",
              "        vertical-align: middle;\n",
              "    }\n",
              "\n",
              "    .dataframe tbody tr th {\n",
              "        vertical-align: top;\n",
              "    }\n",
              "\n",
              "    .dataframe thead th {\n",
              "        text-align: right;\n",
              "    }\n",
              "</style>\n",
              "<table border=\"1\" class=\"dataframe\">\n",
              "  <thead>\n",
              "    <tr style=\"text-align: right;\">\n",
              "      <th></th>\n",
              "      <th>count</th>\n",
              "    </tr>\n",
              "    <tr>\n",
              "      <th>congestion_surcharge</th>\n",
              "      <th></th>\n",
              "    </tr>\n",
              "  </thead>\n",
              "  <tbody>\n",
              "    <tr>\n",
              "      <th>2.50</th>\n",
              "      <td>276295</td>\n",
              "    </tr>\n",
              "    <tr>\n",
              "      <th>0.75</th>\n",
              "      <td>1</td>\n",
              "    </tr>\n",
              "  </tbody>\n",
              "</table>\n",
              "</div><br><label><b>dtype:</b> int64</label>"
            ]
          },
          "metadata": {},
          "execution_count": 85
        }
      ]
    },
    {
      "cell_type": "code",
      "source": [
        "com_df.improvement_surcharge.value_counts()\n"
      ],
      "metadata": {
        "colab": {
          "base_uri": "https://localhost:8080/",
          "height": 272
        },
        "id": "hbqKodsnFMkr",
        "outputId": "1cc0b234-3b9b-405c-a233-b00013c238ad"
      },
      "execution_count": 87,
      "outputs": [
        {
          "output_type": "execute_result",
          "data": {
            "text/plain": [
              "improvement_surcharge\n",
              " 1.0    283001\n",
              "-1.0      2903\n",
              " 0.3       162\n",
              " 0.0       112\n",
              "-0.3         2\n",
              "Name: count, dtype: int64"
            ],
            "text/html": [
              "<div>\n",
              "<style scoped>\n",
              "    .dataframe tbody tr th:only-of-type {\n",
              "        vertical-align: middle;\n",
              "    }\n",
              "\n",
              "    .dataframe tbody tr th {\n",
              "        vertical-align: top;\n",
              "    }\n",
              "\n",
              "    .dataframe thead th {\n",
              "        text-align: right;\n",
              "    }\n",
              "</style>\n",
              "<table border=\"1\" class=\"dataframe\">\n",
              "  <thead>\n",
              "    <tr style=\"text-align: right;\">\n",
              "      <th></th>\n",
              "      <th>count</th>\n",
              "    </tr>\n",
              "    <tr>\n",
              "      <th>improvement_surcharge</th>\n",
              "      <th></th>\n",
              "    </tr>\n",
              "  </thead>\n",
              "  <tbody>\n",
              "    <tr>\n",
              "      <th>1.0</th>\n",
              "      <td>283001</td>\n",
              "    </tr>\n",
              "    <tr>\n",
              "      <th>-1.0</th>\n",
              "      <td>2903</td>\n",
              "    </tr>\n",
              "    <tr>\n",
              "      <th>0.3</th>\n",
              "      <td>162</td>\n",
              "    </tr>\n",
              "    <tr>\n",
              "      <th>0.0</th>\n",
              "      <td>112</td>\n",
              "    </tr>\n",
              "    <tr>\n",
              "      <th>-0.3</th>\n",
              "      <td>2</td>\n",
              "    </tr>\n",
              "  </tbody>\n",
              "</table>\n",
              "</div><br><label><b>dtype:</b> int64</label>"
            ]
          },
          "metadata": {},
          "execution_count": 87
        }
      ]
    },
    {
      "cell_type": "code",
      "source": [
        "com_df['improvement_surcharge'] = com_df['improvement_surcharge'].apply(lambda x: 1 if x == -1.0 else x)\n",
        "com_df['improvement_surcharge'] = com_df['improvement_surcharge'].apply(lambda x: 0.3 if x == -0.3 else x)\n",
        "com_df['improvement_surcharge'] = com_df['improvement_surcharge'].apply(lambda x: 1 if x == 0 else x)\n",
        "com_df.congestion_surcharge.value_counts()"
      ],
      "metadata": {
        "colab": {
          "base_uri": "https://localhost:8080/",
          "height": 178
        },
        "id": "lAJ5WIAzHN-0",
        "outputId": "ff58f128-068b-4975-94b1-8234e9a1b840"
      },
      "execution_count": 88,
      "outputs": [
        {
          "output_type": "execute_result",
          "data": {
            "text/plain": [
              "congestion_surcharge\n",
              "2.50    276295\n",
              "0.75         1\n",
              "Name: count, dtype: int64"
            ],
            "text/html": [
              "<div>\n",
              "<style scoped>\n",
              "    .dataframe tbody tr th:only-of-type {\n",
              "        vertical-align: middle;\n",
              "    }\n",
              "\n",
              "    .dataframe tbody tr th {\n",
              "        vertical-align: top;\n",
              "    }\n",
              "\n",
              "    .dataframe thead th {\n",
              "        text-align: right;\n",
              "    }\n",
              "</style>\n",
              "<table border=\"1\" class=\"dataframe\">\n",
              "  <thead>\n",
              "    <tr style=\"text-align: right;\">\n",
              "      <th></th>\n",
              "      <th>count</th>\n",
              "    </tr>\n",
              "    <tr>\n",
              "      <th>congestion_surcharge</th>\n",
              "      <th></th>\n",
              "    </tr>\n",
              "  </thead>\n",
              "  <tbody>\n",
              "    <tr>\n",
              "      <th>2.50</th>\n",
              "      <td>276295</td>\n",
              "    </tr>\n",
              "    <tr>\n",
              "      <th>0.75</th>\n",
              "      <td>1</td>\n",
              "    </tr>\n",
              "  </tbody>\n",
              "</table>\n",
              "</div><br><label><b>dtype:</b> int64</label>"
            ]
          },
          "metadata": {},
          "execution_count": 88
        }
      ]
    },
    {
      "cell_type": "markdown",
      "metadata": {
        "id": "4FZEdgAgUbPl"
      },
      "source": [
        "Are there missing values in other columns? Did you find NaN values in some other set of columns? Handle those missing values below."
      ]
    },
    {
      "cell_type": "code",
      "source": [
        "com_df.total_amount.min()"
      ],
      "metadata": {
        "colab": {
          "base_uri": "https://localhost:8080/"
        },
        "id": "CGtpjeGFGPgG",
        "outputId": "5eda030d-d2c4-4646-a155-3720ebf75372"
      },
      "execution_count": 86,
      "outputs": [
        {
          "output_type": "execute_result",
          "data": {
            "text/plain": [
              "-393.5"
            ]
          },
          "metadata": {},
          "execution_count": 86
        }
      ]
    },
    {
      "cell_type": "code",
      "execution_count": 35,
      "metadata": {
        "id": "iDLpyqCRXa3K"
      },
      "outputs": [],
      "source": [
        "# Handle any remaining missing values\n",
        "\n"
      ]
    },
    {
      "cell_type": "markdown",
      "metadata": {
        "id": "2jyQyYIpCztl"
      },
      "source": [
        "### **2.3** Handling Outliers\n",
        "<font color = red>[10 marks]</font> <br>"
      ]
    },
    {
      "cell_type": "markdown",
      "metadata": {
        "id": "ZoVwZzuEMTHB"
      },
      "source": [
        "Before we start fixing outliers, let's perform outlier analysis."
      ]
    },
    {
      "cell_type": "code",
      "execution_count": 36,
      "metadata": {
        "id": "zHK5K6uV8XpU"
      },
      "outputs": [],
      "source": [
        "# Describe the data and check if there are any potential outliers present\n",
        "# Check for potential out of place values in various columns\n",
        "\n"
      ]
    },
    {
      "cell_type": "markdown",
      "metadata": {
        "id": "4XDuLkufyJ2g"
      },
      "source": [
        "**2.3.1**  <font color = red>[10 marks]</font> <br>\n",
        "Based on the above analysis, it seems that some of the outliers are present due to errors in registering the trips. Fix the outliers.\n",
        "\n",
        "Some points you can look for:\n",
        "- Entries where `trip_distance` is nearly 0 and `fare_amount` is more than 300\n",
        "- Entries where `trip_distance` and `fare_amount` are 0 but the pickup and dropoff zones are different (both distance and fare should not be zero for different zones)\n",
        "- Entries where `trip_distance` is more than 250  miles.\n",
        "- Entries where `payment_type` is 0 (there is no payment_type 0 defined in the data dictionary)\n",
        "\n",
        "These are just some suggestions. You can handle outliers in any way you wish, using the insights from above outlier analysis."
      ]
    },
    {
      "cell_type": "markdown",
      "metadata": {
        "id": "u-YNHI8tea9c"
      },
      "source": [
        "How will you fix each of these values? Which ones will you drop and which ones will you replace?"
      ]
    },
    {
      "cell_type": "markdown",
      "metadata": {
        "id": "Ap4IfwXO4yZe"
      },
      "source": [
        "First, let us remove 7+ passenger counts as there are very less instances."
      ]
    },
    {
      "cell_type": "code",
      "execution_count": 37,
      "metadata": {
        "id": "XfsOFY5y9-fA"
      },
      "outputs": [],
      "source": [
        "# remove passenger_count > 6\n"
      ]
    },
    {
      "cell_type": "code",
      "execution_count": 38,
      "metadata": {
        "id": "FCUNe3tu8bie"
      },
      "outputs": [],
      "source": [
        "# Continue with outlier handling\n",
        "\n"
      ]
    },
    {
      "cell_type": "code",
      "execution_count": 39,
      "metadata": {
        "id": "PuzQXfuT8YKV"
      },
      "outputs": [],
      "source": [
        "# Do any columns need standardising?\n",
        "\n"
      ]
    },
    {
      "cell_type": "markdown",
      "metadata": {
        "id": "gPpJyFFNffcL"
      },
      "source": [
        "## **3** Exploratory Data Analysis\n",
        "<font color = red>[90 marks]</font> <br>"
      ]
    },
    {
      "cell_type": "code",
      "execution_count": null,
      "metadata": {
        "id": "cl-0PcYTfkqh"
      },
      "outputs": [],
      "source": [
        "df.columns.tolist()"
      ]
    },
    {
      "cell_type": "markdown",
      "metadata": {
        "id": "a4N3PvkSTwcN"
      },
      "source": [
        "#### **3.1** General EDA: Finding Patterns and Trends\n",
        "<font color = red>[40 marks]</font> <br>"
      ]
    },
    {
      "cell_type": "markdown",
      "metadata": {
        "id": "9hwonDfZTJO6"
      },
      "source": [
        "**3.1.1** <font color = red>[3 marks]</font> <br>\n",
        "Categorise the varaibles into Numerical or Categorical.\n",
        "* `VendorID`:\n",
        "* `tpep_pickup_datetime`:\n",
        "* `tpep_dropoff_datetime`:\n",
        "* `passenger_count`:\n",
        "* `trip_distance`:\n",
        "* `RatecodeID`:\n",
        "* `PULocationID`:\n",
        "* `DOLocationID`:\n",
        "* `payment_type`:\n",
        "* `pickup_hour`:\n",
        "* `trip_duration`:\n",
        "\n",
        "\n",
        "The following monetary parameters belong in the same category, is it categorical or numerical?\n",
        "\n",
        "\n",
        "* `fare_amount`\n",
        "* `extra`\n",
        "* `mta_tax`\n",
        "* `tip_amount`\n",
        "* `tolls_amount`\n",
        "* `improvement_surcharge`\n",
        "* `total_amount`\n",
        "* `congestion_surcharge`\n",
        "* `airport_fee`"
      ]
    },
    {
      "cell_type": "markdown",
      "metadata": {
        "id": "MbGMjArkiXjL"
      },
      "source": [
        "##### Temporal Analysis"
      ]
    },
    {
      "cell_type": "markdown",
      "metadata": {
        "id": "ZCCbmQ49s2qj"
      },
      "source": [
        "**3.1.2** <font color = red>[5 marks]</font> <br>\n",
        "Analyse the distribution of taxi pickups by hours, days of the week, and months."
      ]
    },
    {
      "cell_type": "code",
      "execution_count": null,
      "metadata": {
        "id": "RwgWN_MWg0Au"
      },
      "outputs": [],
      "source": [
        "# Find and show the hourly trends in taxi pickups\n",
        "\n"
      ]
    },
    {
      "cell_type": "code",
      "execution_count": null,
      "metadata": {
        "id": "R64b8zfkG5OK"
      },
      "outputs": [],
      "source": [
        "# Find and show the daily trends in taxi pickups (days of the week)\n",
        "\n"
      ]
    },
    {
      "cell_type": "code",
      "execution_count": null,
      "metadata": {
        "id": "H7V-jmRQG5hJ"
      },
      "outputs": [],
      "source": [
        "# Show the monthly trends in pickups\n",
        "\n"
      ]
    },
    {
      "cell_type": "markdown",
      "metadata": {
        "id": "23IqsgNjHNpJ"
      },
      "source": [
        "##### Financial Analysis"
      ]
    },
    {
      "cell_type": "markdown",
      "metadata": {
        "id": "fRaO-3NqHSM6"
      },
      "source": [
        "Take a look at the financial parameters like `fare_amount`, `tip_amount`, `total_amount`, and also `trip_distance`. Do these contain zero/negative values?"
      ]
    },
    {
      "cell_type": "code",
      "execution_count": null,
      "metadata": {
        "id": "Z7JUnPeRHRqF"
      },
      "outputs": [],
      "source": [
        "# Analyse the above parameters\n",
        "\n"
      ]
    },
    {
      "cell_type": "markdown",
      "metadata": {
        "id": "dbOS_-GDJTyv"
      },
      "source": [
        "Do you think it is beneficial to create a copy DataFrame leaving out the zero values from these?"
      ]
    },
    {
      "cell_type": "markdown",
      "metadata": {
        "id": "YDN14J63o9gV"
      },
      "source": [
        "**3.1.3** <font color = red>[2 marks]</font> <br>\n",
        "Filter out the zero values from the above columns.\n",
        "\n",
        "**Note:** The distance might be 0 in cases where pickup and drop is in the same zone. Do you think it is suitable to drop such cases of zero distance?"
      ]
    },
    {
      "cell_type": "code",
      "execution_count": null,
      "metadata": {
        "id": "5mk7Yp41JqJd"
      },
      "outputs": [],
      "source": [
        "# Create a df with non zero entries for the selected parameters.\n",
        "\n"
      ]
    },
    {
      "cell_type": "markdown",
      "metadata": {
        "id": "kJcgwyrtKivH"
      },
      "source": [
        "**3.1.4** <font color = red>[3 marks]</font> <br>\n",
        "Analyse the monthly revenue (`total_amount`) trend"
      ]
    },
    {
      "cell_type": "code",
      "execution_count": null,
      "metadata": {
        "id": "U_gl8rBD6ZH0"
      },
      "outputs": [],
      "source": [
        "# Group data by month and analyse monthly revenue\n",
        "\n"
      ]
    },
    {
      "cell_type": "markdown",
      "metadata": {
        "id": "3vQHosTZLalB"
      },
      "source": [
        "**3.1.5** <font color = red>[3 marks]</font> <br>\n",
        "Show the proportion of each quarter of the year in the revenue"
      ]
    },
    {
      "cell_type": "code",
      "execution_count": null,
      "metadata": {
        "id": "foV9BpFbVTbu"
      },
      "outputs": [],
      "source": [
        "# Calculate proportion of each quarter\n",
        "\n"
      ]
    },
    {
      "cell_type": "markdown",
      "metadata": {
        "id": "JncXEPjBLyHp"
      },
      "source": [
        "**3.1.6** <font color = red>[3 marks]</font> <br>\n",
        "Visualise the relationship between `trip_distance` and `fare_amount`. Also find the correlation value for these two.\n",
        "\n",
        "**Hint:** You can leave out the trips with trip_distance = 0"
      ]
    },
    {
      "cell_type": "code",
      "execution_count": null,
      "metadata": {
        "id": "-z8Fegh_P5At"
      },
      "outputs": [],
      "source": [
        "# Show how trip fare is affected by distance\n",
        "\n"
      ]
    },
    {
      "cell_type": "markdown",
      "metadata": {
        "id": "-OGNFTX4QdeS"
      },
      "source": [
        "**3.1.7** <font color = red>[5 marks]</font> <br>\n",
        "Find and visualise the correlation between:\n",
        "1. `fare_amount` and trip duration (pickup time to dropoff time)\n",
        "2. `fare_amount` and `passenger_count`\n",
        "3. `tip_amount` and `trip_distance`"
      ]
    },
    {
      "cell_type": "code",
      "execution_count": null,
      "metadata": {
        "id": "EtSNqFw19TB3"
      },
      "outputs": [],
      "source": [
        "# Show relationship between fare and trip duration\n",
        "\n"
      ]
    },
    {
      "cell_type": "code",
      "execution_count": null,
      "metadata": {
        "id": "oTrlXiBm9TB3"
      },
      "outputs": [],
      "source": [
        "# Show relationship between fare and number of passengers\n",
        "\n"
      ]
    },
    {
      "cell_type": "code",
      "execution_count": null,
      "metadata": {
        "id": "Lph7rakc9TB3"
      },
      "outputs": [],
      "source": [
        "# Show relationship between tip and trip distance\n",
        "\n"
      ]
    },
    {
      "cell_type": "markdown",
      "metadata": {
        "id": "3EL5CU47QJ5u"
      },
      "source": [
        "**3.1.8** <font color = red>[3 marks]</font> <br>\n",
        "Analyse the distribution of different payment types (`payment_type`)"
      ]
    },
    {
      "cell_type": "code",
      "execution_count": null,
      "metadata": {
        "id": "pknOiYLp9Wnd"
      },
      "outputs": [],
      "source": [
        "# Analyse the distribution of different payment types (payment_type).\n",
        "\n",
        "\n"
      ]
    },
    {
      "cell_type": "markdown",
      "metadata": {
        "id": "PxxbUmSZ9Wne"
      },
      "source": [
        "- 1= Credit card\n",
        "- 2= Cash\n",
        "- 3= No charge\n",
        "- 4= Dispute\n",
        "\n"
      ]
    },
    {
      "cell_type": "markdown",
      "metadata": {
        "id": "CVXxcSYHj9sh"
      },
      "source": [
        "##### Geographical Analysis"
      ]
    },
    {
      "cell_type": "markdown",
      "metadata": {
        "id": "tvBXuYW7kEyS"
      },
      "source": [
        "For this, you have to use the *taxi_zones.shp* file from the *taxi_zones* folder.\n",
        "\n",
        "There would be multiple files inside the folder (such as *.shx, .sbx, .sbn* etc). You do not need to import/read any of the files other than the shapefile, *taxi_zones.shp*.\n",
        "\n",
        "Do not change any folder structure - all the files need to be present inside the folder for it to work.\n",
        "\n",
        "The folder structure should look like this:\n",
        "```\n",
        "Taxi Zones\n",
        "|- taxi_zones.shp.xml\n",
        "|- taxi_zones.prj\n",
        "|- taxi_zones.sbn\n",
        "|- taxi_zones.shp\n",
        "|- taxi_zones.dbf\n",
        "|- taxi_zones.shx\n",
        "|- taxi_zones.sbx\n",
        "\n",
        " ```\n",
        "\n",
        " You only need to read the `taxi_zones.shp` file. The *shp* file will utilise the other files by itself."
      ]
    },
    {
      "cell_type": "markdown",
      "metadata": {
        "id": "hR8f8ypXUtxJ"
      },
      "source": [
        "We will use the *GeoPandas* library for geopgraphical analysis\n",
        "```\n",
        "import geopandas as gpd\n",
        "```\n",
        "\n",
        "More about geopandas and shapefiles: [About](https://geopandas.org/en/stable/about.html)\n",
        "\n",
        "\n",
        "Reading the shapefile is very similar to *Pandas*. Use `gpd.read_file()` function to load the data (*taxi_zones.shp*) as a GeoDataFrame. Documentation: [Reading and Writing Files](https://geopandas.org/en/stable/docs/user_guide/io.html)"
      ]
    },
    {
      "cell_type": "code",
      "execution_count": null,
      "metadata": {
        "id": "FJ76QD9IXNz8"
      },
      "outputs": [],
      "source": [
        "# !pip install geopandas"
      ]
    },
    {
      "cell_type": "markdown",
      "metadata": {
        "id": "q_QpZLl_WU-b"
      },
      "source": [
        "**3.1.9** <font color = red>[2 marks]</font> <br>\n",
        "Load the shapefile and display it."
      ]
    },
    {
      "cell_type": "code",
      "execution_count": null,
      "metadata": {
        "id": "hLyVd3TQkCdG"
      },
      "outputs": [],
      "source": [
        "# import geopandas as gpd\n",
        "\n",
        "\n",
        "# Read the shapefile using geopandas\n",
        "zones = # read the .shp file using gpd\n",
        "zones.head()"
      ]
    },
    {
      "cell_type": "markdown",
      "metadata": {
        "id": "8YXJMzRoWxeg"
      },
      "source": [
        "Now, if you look at the DataFrame created, you will see columns like: `OBJECTID`,`Shape_Leng`, `Shape_Area`, `zone`, `LocationID`, `borough`, `geometry`.\n",
        "<br><br>\n",
        "\n",
        "Now, the `locationID` here is also what we are using to mark pickup and drop zones in the trip records.\n",
        "\n",
        "The geometric parameters like shape length, shape area and geometry are used to plot the zones on a map.\n",
        "\n",
        "This can be easily done using the `plot()` method."
      ]
    },
    {
      "cell_type": "code",
      "execution_count": null,
      "metadata": {
        "id": "lTqdZChLYE6H"
      },
      "outputs": [],
      "source": [
        "# print(zones.info())\n",
        "# zones.plot()"
      ]
    },
    {
      "cell_type": "markdown",
      "metadata": {
        "id": "fBkWokLIY_BH"
      },
      "source": [
        "Now, you have to merge the trip records and zones data using the location IDs.\n",
        "\n"
      ]
    },
    {
      "cell_type": "markdown",
      "metadata": {
        "id": "YzUMLUjqaJLN"
      },
      "source": [
        "**3.1.10** <font color = red>[3 marks]</font> <br>\n",
        "Merge the zones data into trip data using the `locationID` and `PULocationID` columns."
      ]
    },
    {
      "cell_type": "code",
      "execution_count": null,
      "metadata": {
        "id": "A2L8hWMQaYkX"
      },
      "outputs": [],
      "source": [
        "# Merge zones and trip records using locationID and PULocationID\n",
        "\n"
      ]
    },
    {
      "cell_type": "markdown",
      "metadata": {
        "id": "9CYc36Weai5-"
      },
      "source": [
        "**3.1.11** <font color = red>[3 marks]</font> <br>\n",
        "Group data by location IDs to find the total number of trips per location ID"
      ]
    },
    {
      "cell_type": "code",
      "execution_count": null,
      "metadata": {
        "id": "XpTIaPSSbwZZ"
      },
      "outputs": [],
      "source": [
        "# Group data by location and calculate the number of trips\n",
        "\n"
      ]
    },
    {
      "cell_type": "markdown",
      "metadata": {
        "id": "As0dVJpdcK2_"
      },
      "source": [
        "**3.1.12** <font color = red>[2 marks]</font> <br>\n",
        "Now, use the grouped data to add number of trips to the GeoDataFrame.\n",
        "\n",
        "We will use this to plot a map of zones showing total trips per zone."
      ]
    },
    {
      "cell_type": "code",
      "execution_count": null,
      "metadata": {
        "id": "H9Sheg7vdZ6q"
      },
      "outputs": [],
      "source": [
        "# Merge trip counts back to the zones GeoDataFrame\n",
        "\n",
        "\n"
      ]
    },
    {
      "cell_type": "markdown",
      "metadata": {
        "id": "DsfomL6Od0_R"
      },
      "source": [
        "The next step is creating a color map (choropleth map) showing zones by the number of trips taken.\n",
        "\n",
        "Again, you can use the `zones.plot()` method for this. [Plot Method GPD](https://geopandas.org/en/stable/docs/reference/api/geopandas.GeoDataFrame.plot.html#geopandas.GeoDataFrame.plot)\n",
        "\n",
        "But first, you need to define the figure and axis for the plot.\n",
        "\n",
        "`fig, ax = plt.subplots(1, 1, figsize = (12, 10))`\n",
        "\n",
        "This function creates a figure (fig) and a single subplot (ax)\n",
        "\n",
        "---"
      ]
    },
    {
      "cell_type": "markdown",
      "metadata": {
        "id": "QgDcw8gUejVk"
      },
      "source": [
        "After setting up the figure and axis, we can proceed to plot the GeoDataFrame on this axis. This is done in the next step where we use the plot method of the GeoDataFrame.\n",
        "\n",
        "You can define the following parameters in the `zones.plot()` method:\n",
        "```\n",
        "column = '',\n",
        "ax = ax,\n",
        "legend = True,\n",
        "legend_kwds = {'label': \"label\", 'orientation': \"<horizontal/vertical>\"}\n",
        "```\n",
        "\n",
        "To display the plot, use `plt.show()`."
      ]
    },
    {
      "cell_type": "markdown",
      "metadata": {
        "id": "xFQmkJipfU1P"
      },
      "source": [
        "**3.1.13** <font color = red>[3 marks]</font> <br>\n",
        "Plot a color-coded map showing zone-wise trips"
      ]
    },
    {
      "cell_type": "code",
      "execution_count": null,
      "metadata": {
        "id": "i506kVTgefM5"
      },
      "outputs": [],
      "source": [
        "# Define figure and axis\n",
        "\n",
        "\n",
        "# Plot the map and display it\n",
        "\n"
      ]
    },
    {
      "cell_type": "code",
      "execution_count": null,
      "metadata": {
        "id": "gwDs7OaBSopP"
      },
      "outputs": [],
      "source": [
        "# can you try displaying the zones DF sorted by the number of trips?\n",
        "\n"
      ]
    },
    {
      "cell_type": "markdown",
      "metadata": {
        "id": "T1bE7-QbgSrZ"
      },
      "source": [
        "Here we have completed the temporal, financial and geographical analysis on the trip records.\n",
        "\n",
        "**Compile your findings from general analysis below:**"
      ]
    },
    {
      "cell_type": "markdown",
      "metadata": {
        "id": "7YiVFIX3gcL3"
      },
      "source": [
        "You can consider the following points:\n",
        "\n",
        "* Busiest hours, days and months\n",
        "* Trends in revenue collected\n",
        "* Trends in quarterly revenue\n",
        "* How fare depends on trip distance, trip duration and passenger counts\n",
        "* How tip amount depends on trip distance\n",
        "* Busiest zones\n"
      ]
    },
    {
      "cell_type": "markdown",
      "metadata": {
        "id": "Rv0oYLcbhOTU"
      },
      "source": [
        "#### **3.2** Detailed EDA: Insights and Strategies\n",
        "<font color = red>[50 marks]</font> <br>"
      ]
    },
    {
      "cell_type": "markdown",
      "metadata": {
        "id": "xWJk-CGihnU1"
      },
      "source": [
        "Having performed basic analyses for finding trends and patterns, we will now move on to some detailed analysis focussed on operational efficiency, pricing strategies, and customer experience."
      ]
    },
    {
      "cell_type": "markdown",
      "metadata": {
        "id": "XBY2Y4Jrz9IQ"
      },
      "source": [
        "##### Operational Efficiency"
      ]
    },
    {
      "cell_type": "markdown",
      "metadata": {
        "id": "BXU8Q3sGjGnE"
      },
      "source": [
        "Analyze variations by time of day and location to identify bottlenecks or inefficiencies in routes"
      ]
    },
    {
      "cell_type": "markdown",
      "metadata": {
        "id": "H97VPqVdq7Lz"
      },
      "source": [
        "**3.2.1** <font color = red>[3 marks]</font> <br>\n",
        "Identify slow routes by calculating the average time taken by cabs to get from one zone to another at different hours of the day."
      ]
    },
    {
      "cell_type": "markdown",
      "metadata": {
        "id": "NzTRZyw2q9IR"
      },
      "source": [
        "Speed on a route *X* for hour *Y* = (*distance of the route X / average trip duration for hour Y*)"
      ]
    },
    {
      "cell_type": "code",
      "execution_count": null,
      "metadata": {
        "id": "Ovf-1vIyhk7E"
      },
      "outputs": [],
      "source": [
        "# Find routes which have the slowest speeds at different times of the day\n",
        "\n"
      ]
    },
    {
      "cell_type": "markdown",
      "metadata": {
        "id": "NmRPbH3rm2Ub"
      },
      "source": [
        "How does identifying high-traffic, high-demand routes help us?"
      ]
    },
    {
      "cell_type": "markdown",
      "metadata": {
        "id": "7-w-OCB_nLmb"
      },
      "source": [
        "**3.2.2** <font color = red>[3 marks]</font> <br>\n",
        "Calculate the number of trips at each hour of the day and visualise them. Find the busiest hour and show the number of trips for that hour."
      ]
    },
    {
      "cell_type": "code",
      "execution_count": null,
      "metadata": {
        "id": "BEbRCT31nLUw"
      },
      "outputs": [],
      "source": [
        "# Visualise the number of trips per hour and find the busiest hour\n",
        "\n"
      ]
    },
    {
      "cell_type": "markdown",
      "metadata": {
        "id": "8FuSAA0zn3F4"
      },
      "source": [
        "Remember, we took a fraction of trips. To find the actual number, you have to scale the number up by the sampling ratio."
      ]
    },
    {
      "cell_type": "markdown",
      "metadata": {
        "id": "bapn075QrKaz"
      },
      "source": [
        "**3.2.3** <font color = red>[2 mark]</font> <br>\n",
        "Find the actual number of trips in the five busiest hours"
      ]
    },
    {
      "cell_type": "code",
      "execution_count": null,
      "metadata": {
        "id": "79Hy-YWOoapQ"
      },
      "outputs": [],
      "source": [
        "# Scale up the number of trips\n",
        "\n",
        "# Fill in the value of your sampling fraction and use that to scale up the numbers\n",
        "sample_fraction =\n",
        "\n"
      ]
    },
    {
      "cell_type": "markdown",
      "metadata": {
        "id": "74fhoLxEoaTP"
      },
      "source": [
        "**3.2.4** <font color = red>[3 marks]</font> <br>\n",
        "Compare hourly traffic pattern on weekdays. Also compare for weekend."
      ]
    },
    {
      "cell_type": "code",
      "execution_count": null,
      "metadata": {
        "id": "sYMmCQHwpFRY"
      },
      "outputs": [],
      "source": [
        "# Compare traffic trends for the week days and weekends\n",
        "\n"
      ]
    },
    {
      "cell_type": "markdown",
      "metadata": {
        "id": "tWeuAulNpSOL"
      },
      "source": [
        "What can you infer from the above patterns? How will finding busy and quiet hours for each day help us?"
      ]
    },
    {
      "cell_type": "markdown",
      "metadata": {
        "id": "-S90VG94rGUm"
      },
      "source": [
        "**3.2.5** <font color = red>[3 marks]</font> <br>\n",
        "Identify top 10 zones with high hourly pickups. Do the same for hourly dropoffs. Show pickup and dropoff trends in these zones."
      ]
    },
    {
      "cell_type": "code",
      "execution_count": null,
      "metadata": {
        "id": "-nJGifJFrslP"
      },
      "outputs": [],
      "source": [
        "# Find top 10 pickup and dropoff zones\n",
        "\n"
      ]
    },
    {
      "cell_type": "markdown",
      "metadata": {
        "id": "okkQ17VssMqP"
      },
      "source": [
        "**3.2.6** <font color = red>[3 marks]</font> <br>\n",
        "Find the ratio of pickups and dropoffs in each zone. Display the 10 highest (pickup/drop) and 10 lowest (pickup/drop) ratios."
      ]
    },
    {
      "cell_type": "code",
      "execution_count": null,
      "metadata": {
        "id": "Qbuc8y-KgeDR"
      },
      "outputs": [],
      "source": [
        "# Find the top 10 and bottom 10 pickup/dropoff ratios\n",
        "\n"
      ]
    },
    {
      "cell_type": "markdown",
      "metadata": {
        "id": "2j1ukv-rrxny"
      },
      "source": [
        "**3.2.7** <font color = red>[3 marks]</font> <br>\n",
        "Identify zones with high pickup and dropoff traffic during night hours (11PM to 5AM)"
      ]
    },
    {
      "cell_type": "code",
      "execution_count": null,
      "metadata": {
        "id": "ve65f0GltyE_"
      },
      "outputs": [],
      "source": [
        "# During night hours (11pm to 5am) find the top 10 pickup and dropoff zones\n",
        "# Note that the top zones should be of night hours and not the overall top zones\n",
        "\n"
      ]
    },
    {
      "cell_type": "markdown",
      "metadata": {
        "id": "OtPTHyhTNnNL"
      },
      "source": [
        "Now, let us find the revenue share for the night time hours and the day time hours. After this, we will move to deciding a pricing strategy.\n",
        "\n",
        "**3.2.8** <font color = red>[2 marks]</font> <br>\n",
        "Find the revenue share for nighttime and daytime hours."
      ]
    },
    {
      "cell_type": "code",
      "execution_count": null,
      "metadata": {
        "id": "0ohk4curNl3g"
      },
      "outputs": [],
      "source": [
        "# Filter for night hours (11 PM to 5 AM)\n",
        "\n"
      ]
    },
    {
      "cell_type": "markdown",
      "metadata": {
        "id": "nG77smP4tyWu"
      },
      "source": [
        "##### Pricing Strategy"
      ]
    },
    {
      "cell_type": "markdown",
      "metadata": {
        "id": "ciF6eThit5IH"
      },
      "source": [
        "**3.2.9** <font color = red>[2 marks]</font> <br>\n",
        "For the different passenger counts, find the average fare per mile per passenger.\n",
        "\n",
        "For instance, suppose the average fare per mile for trips with 3 passengers is 3 USD/mile, then the fare per mile per passenger will be 1 USD/mile."
      ]
    },
    {
      "cell_type": "code",
      "execution_count": null,
      "metadata": {
        "id": "AO7MIuXd9C16"
      },
      "outputs": [],
      "source": [
        "# Analyse the fare per mile per passenger for different passenger counts\n",
        "\n",
        "\n"
      ]
    },
    {
      "cell_type": "markdown",
      "metadata": {
        "id": "WZrN-cxR9DIb"
      },
      "source": [
        "**3.2.10** <font color = red>[3 marks]</font> <br>\n",
        "Find the average fare per mile by hours of the day and by days of the week"
      ]
    },
    {
      "cell_type": "code",
      "execution_count": null,
      "metadata": {
        "id": "hUzCJm2y9SOq"
      },
      "outputs": [],
      "source": [
        "# Compare the average fare per mile for different days and for different times of the day\n",
        "\n"
      ]
    },
    {
      "cell_type": "markdown",
      "metadata": {
        "id": "211WFkhHDUMG"
      },
      "source": [
        "**3.2.11** <font color = red>[3 marks]</font> <br>\n",
        "Analyse the average fare per mile for the different vendors for different hours of the day"
      ]
    },
    {
      "cell_type": "code",
      "execution_count": null,
      "metadata": {
        "id": "my3cGHL1DU04"
      },
      "outputs": [],
      "source": [
        "# Compare fare per mile for different vendors\n",
        "\n"
      ]
    },
    {
      "cell_type": "markdown",
      "metadata": {
        "id": "FH9YJdodtDk4"
      },
      "source": [
        "**3.2.12** <font color = red>[5 marks]</font> <br>\n",
        "Compare the fare rates of the different vendors in a tiered fashion. Analyse the average fare per mile for distances upto 2 miles. Analyse the fare per mile for distances from 2 to 5 miles. And then for distances more than 5 miles.\n"
      ]
    },
    {
      "cell_type": "code",
      "execution_count": null,
      "metadata": {
        "id": "TFRPgO7mgEeT"
      },
      "outputs": [],
      "source": [
        "# Defining distance tiers\n",
        "\n"
      ]
    },
    {
      "cell_type": "markdown",
      "metadata": {
        "id": "M2o6xY0Yh6Gv"
      },
      "source": [
        "##### Customer Experience and Other Factors"
      ]
    },
    {
      "cell_type": "markdown",
      "metadata": {
        "id": "VSneN-rCh6Gw"
      },
      "source": [
        "**3.2.13** <font color = red>[5 marks]</font> <br>\n",
        "Analyse average tip percentages based on trip distances, passenger counts and time of pickup. What factors lead to low tip percentages?"
      ]
    },
    {
      "cell_type": "code",
      "execution_count": null,
      "metadata": {
        "id": "LO5WazK8h6Gx"
      },
      "outputs": [],
      "source": [
        "#  Analyze tip percentages based on distances, passenger counts and pickup times\n",
        "\n"
      ]
    },
    {
      "cell_type": "markdown",
      "metadata": {
        "id": "wQAIQsrcLm6X"
      },
      "source": [
        "Additional analysis [optional]: Let's try comparing cases of low tips with cases of high tips to find out if we find a clear aspect that drives up the tipping behaviours"
      ]
    },
    {
      "cell_type": "code",
      "execution_count": null,
      "metadata": {
        "collapsed": true,
        "id": "QYoUed6Dn6YW"
      },
      "outputs": [],
      "source": [
        "# Compare trips with tip percentage < 10% to trips with tip percentage > 25%\n",
        "\n"
      ]
    },
    {
      "cell_type": "markdown",
      "metadata": {
        "id": "0UjvGTRKh6Gx"
      },
      "source": [
        "**3.2.14** <font color = red>[3 marks]</font> <br>\n",
        "Analyse the variation of passenger count across hours and days of the week."
      ]
    },
    {
      "cell_type": "code",
      "execution_count": null,
      "metadata": {
        "id": "rFP0DNRvh6Gx"
      },
      "outputs": [],
      "source": [
        "# See how passenger count varies across hours and days\n",
        "\n",
        "\n"
      ]
    },
    {
      "cell_type": "markdown",
      "metadata": {
        "id": "zWKLLlb7h6Gy"
      },
      "source": [
        "**3.2.15** <font color = red>[2 marks]</font> <br>\n",
        "Analyse the variation of passenger counts across zones"
      ]
    },
    {
      "cell_type": "code",
      "execution_count": null,
      "metadata": {
        "id": "30h27Uz2h6Gy"
      },
      "outputs": [],
      "source": [
        "# How does passenger count vary across zones\n",
        "\n"
      ]
    },
    {
      "cell_type": "code",
      "execution_count": null,
      "metadata": {
        "id": "C3I0AfOkvBWA"
      },
      "outputs": [],
      "source": [
        "# For a more detailed analysis, we can use the zones_with_trips GeoDataFrame\n",
        "# Create a new column for the average passenger count in each zone.\n",
        "\n"
      ]
    },
    {
      "cell_type": "markdown",
      "metadata": {
        "id": "rw0j5Z-1h6Gz"
      },
      "source": [
        "Find out how often surcharges/extra charges are applied to understand their prevalance"
      ]
    },
    {
      "cell_type": "markdown",
      "metadata": {
        "id": "x9IHjHFBx6Ye"
      },
      "source": [
        "**3.2.16** <font color = red>[5 marks]</font> <br>\n",
        "Analyse the pickup/dropoff zones or times when extra charges are applied more frequently"
      ]
    },
    {
      "cell_type": "code",
      "execution_count": null,
      "metadata": {
        "id": "nKbXwZJwh6Gz"
      },
      "outputs": [],
      "source": [
        "# How often is each surcharge applied?\n",
        "\n"
      ]
    },
    {
      "cell_type": "markdown",
      "metadata": {
        "id": "bkyc9q40Cts-"
      },
      "source": [
        "## **4** Conclusion\n",
        "<font color = red>[15 marks]</font> <br>"
      ]
    },
    {
      "cell_type": "markdown",
      "metadata": {
        "id": "Z5yCODI-C6yR"
      },
      "source": [
        "### **4.1** Final Insights and Recommendations\n",
        "<font color = red>[15 marks]</font> <br>\n",
        "\n",
        "Conclude your analyses here. Include all the outcomes you found based on the analysis.\n",
        "\n",
        "Based on the insights, frame a concluding story explaining suitable parameters such as location, time of the day, day of the week etc. to be kept in mind while devising a strategy to meet customer demand and optimise supply."
      ]
    },
    {
      "cell_type": "markdown",
      "metadata": {
        "id": "0dy8J-C8jJjk"
      },
      "source": [
        "**4.1.1** <font color = red>[5 marks]</font> <br>\n",
        "Recommendations to optimize routing and dispatching based on demand patterns and operational inefficiencies"
      ]
    },
    {
      "cell_type": "code",
      "execution_count": null,
      "metadata": {
        "id": "J03px17x_rD9"
      },
      "outputs": [],
      "source": []
    },
    {
      "cell_type": "markdown",
      "metadata": {
        "id": "AaLgTWxpjt7h"
      },
      "source": [
        "**4.1.2** <font color = red>[5 marks]</font> <br>\n",
        "\n",
        "Suggestions on strategically positioning cabs across different zones to make best use of insights uncovered by analysing trip trends across time, days and months."
      ]
    },
    {
      "cell_type": "code",
      "execution_count": null,
      "metadata": {
        "id": "c8ZbTIF7_rsN"
      },
      "outputs": [],
      "source": []
    },
    {
      "cell_type": "markdown",
      "metadata": {
        "id": "mUU4mn50jMZy"
      },
      "source": [
        "**4.1.3** <font color = red>[5 marks]</font> <br>\n",
        "Propose data-driven adjustments to the pricing strategy to maximize revenue while maintaining competitive rates with other vendors."
      ]
    },
    {
      "cell_type": "code",
      "execution_count": null,
      "metadata": {
        "id": "SXErHFjx_sGN"
      },
      "outputs": [],
      "source": []
    }
  ],
  "metadata": {
    "colab": {
      "collapsed_sections": [
        "-OVfUMlHFkZD",
        "2jyQyYIpCztl",
        "gPpJyFFNffcL",
        "a4N3PvkSTwcN",
        "MbGMjArkiXjL",
        "23IqsgNjHNpJ",
        "CVXxcSYHj9sh",
        "Rv0oYLcbhOTU",
        "XBY2Y4Jrz9IQ",
        "nG77smP4tyWu",
        "M2o6xY0Yh6Gv",
        "bkyc9q40Cts-",
        "Z5yCODI-C6yR"
      ],
      "provenance": []
    },
    "kernelspec": {
      "display_name": "Python 3",
      "name": "python3"
    },
    "language_info": {
      "name": "python"
    }
  },
  "nbformat": 4,
  "nbformat_minor": 0
}